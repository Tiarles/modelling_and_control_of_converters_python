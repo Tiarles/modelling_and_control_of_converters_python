{
 "cells": [
  {
   "cell_type": "markdown",
   "metadata": {},
   "source": [
    "# PFP Aula 13\n",
    "## DPEE805 - Modelagem e Controle de Conversores\n",
    "### Prof° Cassiano Rech | Acadêmico: Tiarles da Rocha Moralles Guterres\n",
    "\n",
    "Os módulos utilizados neste notebook e importados na célula abaixo são:\n",
    "* **matplotlib.pyplot**: Para a geração de figuras a partir de vetores.\n",
    "* **numpy**: É a biblioteca numérica de Python, onde estão implementadas as estruturas e operações com vetores/matrizes.\n",
    "* **control**: Biblioteca com funções semelhantes as do MATLAB para manipular sistemas utilizando diagrama de blocos."
   ]
  },
  {
   "cell_type": "code",
   "execution_count": 1,
   "metadata": {
    "colab": {},
    "colab_type": "code",
    "id": "9W4x27vbpxgH"
   },
   "outputs": [],
   "source": [
    "import control as ctrl\n",
    "import matplotlib.pyplot as plt\n",
    "import numpy as np\n",
    "\n",
    "%matplotlib qt"
   ]
  },
  {
   "cell_type": "code",
   "execution_count": 2,
   "metadata": {},
   "outputs": [],
   "source": [
    "def fz_eq(fc_desired, theta):\n",
    "    num = 1 - np.sin(theta)\n",
    "    den = 1 + np.sin(theta)\n",
    "\n",
    "    return fc_desired * np.sqrt(num/den)\n",
    "\n",
    "\n",
    "def fl_eq(fc_desired, theta):\n",
    "    num = 1 + np.sin(theta)\n",
    "    den = 1 - np.sin(theta)\n",
    "\n",
    "    return fc_desired * np.sqrt(num/den)\n",
    "\n",
    "\n",
    "def w_eq(f):\n",
    "    return 2*np.pi*f\n",
    "\n",
    "\n",
    "def deg_to_radians(deg):\n",
    "    return deg/180*np.pi\n",
    "\n",
    "\n",
    "def radians_to_deg(radius):\n",
    "    return radius/np.pi*180"
   ]
  },
  {
   "cell_type": "code",
   "execution_count": 26,
   "metadata": {
    "colab": {},
    "colab_type": "code",
    "id": "E4ftSuAnpxgO"
   },
   "outputs": [],
   "source": [
    "L = 650e-6\n",
    "C = 680e-6\n",
    "R = 213.4\n",
    "Vm = 5\n",
    "Hi = 1/10\n",
    "Hv = 1/100\n",
    "# Hca = 1/311\n",
    "\n",
    "fs = 70e3\n",
    "Po = 1500\n",
    "Vo = 400\n",
    "fc = fs/10\n",
    "theta = deg_to_radians(70)"
   ]
  },
  {
   "cell_type": "markdown",
   "metadata": {
    "colab_type": "text",
    "id": "S6fWye-MpxgQ"
   },
   "source": [
    "## Malha de corrente (Malha Rápida)"
   ]
  },
  {
   "cell_type": "code",
   "execution_count": 27,
   "metadata": {
    "colab": {
     "base_uri": "https://localhost:8080/",
     "height": 102
    },
    "colab_type": "code",
    "id": "22jk-XCCpxgQ",
    "outputId": "24e3d391-002a-42c1-8510-0bea9dbe57c7"
   },
   "outputs": [
    {
     "name": "stdout",
     "output_type": "stream",
     "text": [
      "\n",
      "s\n",
      "-\n",
      "1\n",
      "\n"
     ]
    }
   ],
   "source": [
    "s = ctrl.tf([1, 0], [1]); print(s)"
   ]
  },
  {
   "cell_type": "code",
   "execution_count": 28,
   "metadata": {
    "colab": {
     "base_uri": "https://localhost:8080/",
     "height": 102
    },
    "colab_type": "code",
    "id": "BsignMJupxgU",
    "outputId": "45e9531a-7478-4628-b05e-4e93a29681d8"
   },
   "outputs": [
    {
     "name": "stdout",
     "output_type": "stream",
     "text": [
      "\n",
      "   400\n",
      "---------\n",
      "0.00065 s\n",
      "\n"
     ]
    }
   ],
   "source": [
    "He = s**2/(np.pi*fs)**2 - s/(2*fs) + 1\n",
    "Gid = Vo/(L*s); print(Gid)\n",
    "\n",
    "T1 = Gid * Hi/Vm * He"
   ]
  },
  {
   "cell_type": "code",
   "execution_count": 29,
   "metadata": {
    "colab": {
     "base_uri": "https://localhost:8080/",
     "height": 312
    },
    "colab_type": "code",
    "id": "MiM5lKEppxgc",
    "outputId": "667b68fb-d5fb-4be5-b244-599c62650e97"
   },
   "outputs": [
    {
     "name": "stderr",
     "output_type": "stream",
     "text": [
      "c:\\users\\tiarl\\appdata\\local\\programs\\python\\python37\\lib\\site-packages\\ipykernel_launcher.py:1: UserWarning: Attempted to set non-positive left xlim on a log-scaled axis.\n",
      "Invalid limit will be ignored.\n",
      "  \"\"\"Entry point for launching an IPython kernel.\n"
     ]
    }
   ],
   "source": [
    "plt.clf()\n",
    "_,_,_ = ctrl.bode(T1, Hz=True, dB=True, margins=True, omega_num=10000, omega_limits=(1, 1e6))#, Plot=False)"
   ]
  },
  {
   "cell_type": "markdown",
   "metadata": {
    "colab_type": "text",
    "id": "HOUyMyQspxgg"
   },
   "source": [
    "### Escolha de projeto (Malha Rápida/Corrente): Compensador PI\n",
    "\n",
    "Por ser desejável um ganho em baixas frequência e uma frequência de cruzamento relativamente alta devido ao efeito de comutação que experimenta a corrente de entrada do indutor."
   ]
  },
  {
   "cell_type": "code",
   "execution_count": 30,
   "metadata": {
    "colab": {
     "base_uri": "https://localhost:8080/",
     "height": 68
    },
    "colab_type": "code",
    "id": "9gprUxo4pxgg",
    "outputId": "77f92e2f-e560-439c-d421-6a505284cb92"
   },
   "outputs": [
    {
     "name": "stdout",
     "output_type": "stream",
     "text": [
      "fz  1234.2888649592555\n",
      "wl  7755.265661127362\n",
      "wc  219911.4857512855\n"
     ]
    }
   ],
   "source": [
    "fz = fz_eq(fc, theta); print('fz ', fz)\n",
    "pc = fs/2\n",
    "\n",
    "wl = 2*np.pi*fz; print('wl ', wl)\n",
    "wc = 2*np.pi*pc; print('wc ', wc)"
   ]
  },
  {
   "cell_type": "code",
   "execution_count": 31,
   "metadata": {
    "colab": {
     "base_uri": "https://localhost:8080/",
     "height": 102
    },
    "colab_type": "code",
    "id": "l4BDLgJDpxgj",
    "outputId": "fa1906bf-8305-4e46-a09b-b59f63a1da8d"
   },
   "outputs": [
    {
     "name": "stdout",
     "output_type": "stream",
     "text": [
      "\n",
      "    s + 7755\n",
      "-----------------\n",
      "s^2 + 2.199e+05 s\n",
      "\n"
     ]
    }
   ],
   "source": [
    "Ci = (s + wl)/(s * (s + wc)); print(Ci)"
   ]
  },
  {
   "cell_type": "code",
   "execution_count": 32,
   "metadata": {
    "colab": {
     "base_uri": "https://localhost:8080/",
     "height": 397
    },
    "colab_type": "code",
    "id": "-b8i1r9xpxgl",
    "outputId": "029034ac-7756-44f0-ef8a-bbe56c90bcb4"
   },
   "outputs": [
    {
     "name": "stdout",
     "output_type": "stream",
     "text": [
      "Clicked at -1.495e+04+1.225e+04j gain  3.875e+05 damp     0.7737\n",
      "Clicked at -1.229e+04     +7769j gain  3.636e+05 damp     0.8453\n",
      "Clicked at      -7858     +9262j gain  2.591e+05 damp     0.6469\n",
      "Clicked at -1.673e+04     +3291j gain  4.462e+05 damp     0.9812\n"
     ]
    }
   ],
   "source": [
    "ctrl.sisotool(Ci * T1, Hz=True, dB=True, omega_num=10000, omega_limits=(1, 1e6))"
   ]
  },
  {
   "cell_type": "markdown",
   "metadata": {
    "colab": {
     "base_uri": "https://localhost:8080/",
     "height": 34
    },
    "colab_type": "code",
    "id": "6R6B94l_pxgn",
    "outputId": "2faa5d30-b365-448c-c1a3-3ceda528418e"
   },
   "source": []
  },
  {
   "cell_type": "code",
   "execution_count": 44,
   "metadata": {
    "colab": {
     "base_uri": "https://localhost:8080/",
     "height": 312
    },
    "colab_type": "code",
    "id": "sjMcYbISpxgp",
    "outputId": "a5511a52-9eae-4555-8143-a5079cf55777"
   },
   "outputs": [
    {
     "name": "stderr",
     "output_type": "stream",
     "text": [
      "c:\\users\\tiarl\\appdata\\local\\programs\\python\\python37\\lib\\site-packages\\ipykernel_launcher.py:2: UserWarning: Attempted to set non-positive left xlim on a log-scaled axis.\n",
      "Invalid limit will be ignored.\n",
      "  \n"
     ]
    }
   ],
   "source": [
    "Ci_adjus = 7.9e5*Ci\n",
    "plt.clf()\n",
    "mag, phase, omega = ctrl.bode(Ci_adjus * T1, Hz=True, dB=True, margins=True, omega_num=10000, omega_limits=(1, 1e6))#, Plot=False)"
   ]
  },
  {
   "cell_type": "code",
   "execution_count": 64,
   "metadata": {},
   "outputs": [
    {
     "name": "stdout",
     "output_type": "stream",
     "text": [
      "\n",
      "7.9e+05 s + 6.127e+09\n",
      "---------------------\n",
      "  s^2 + 2.199e+05 s\n",
      "\n"
     ]
    }
   ],
   "source": [
    "print(Ci_adjus)"
   ]
  },
  {
   "cell_type": "code",
   "execution_count": 45,
   "metadata": {
    "colab": {
     "base_uri": "https://localhost:8080/",
     "height": 102
    },
    "colab_type": "code",
    "id": "ZBheAb5rpxgr",
    "outputId": "42896970-8be9-4f31-81f2-076ede459f0b"
   },
   "outputs": [
    {
     "name": "stdout",
     "output_type": "stream",
     "text": [
      "\n",
      "    130.3\n",
      "------------\n",
      "0.1451 s + 1\n",
      "\n"
     ]
    }
   ],
   "source": [
    "Vp = 311\n",
    "Kv = 1 * 2/np.pi\n",
    "\n",
    "Gvi = np.pi/4 * Vp/Vo * R/(R*C*s + 1); print(Gvi)"
   ]
  },
  {
   "cell_type": "code",
   "execution_count": 46,
   "metadata": {
    "colab": {
     "base_uri": "https://localhost:8080/",
     "height": 34
    },
    "colab_type": "code",
    "id": "VScvjVGVqj6d",
    "outputId": "48b950e4-8a71-47bf-da76-d3557783cb7b"
   },
   "outputs": [
    {
     "data": {
      "text/plain": [
       "array([-6.89122884])"
      ]
     },
     "execution_count": 46,
     "metadata": {},
     "output_type": "execute_result"
    }
   ],
   "source": [
    "ctrl.pole(Gvi)"
   ]
  },
  {
   "cell_type": "code",
   "execution_count": 54,
   "metadata": {
    "colab": {
     "base_uri": "https://localhost:8080/",
     "height": 102
    },
    "colab_type": "code",
    "id": "1nA5av5cpxgt",
    "outputId": "b6e1513e-239f-49e2-a683-86264a632d67"
   },
   "outputs": [],
   "source": [
    "T2 = Kv * 1/Hi * Gvi * Hv"
   ]
  },
  {
   "cell_type": "code",
   "execution_count": 49,
   "metadata": {
    "colab": {
     "base_uri": "https://localhost:8080/",
     "height": 312
    },
    "colab_type": "code",
    "id": "enL8lemipxgu",
    "outputId": "6d4fff6c-01b1-4abf-8950-be7b1d7c112d"
   },
   "outputs": [
    {
     "name": "stderr",
     "output_type": "stream",
     "text": [
      "c:\\users\\tiarl\\appdata\\local\\programs\\python\\python37\\lib\\site-packages\\ipykernel_launcher.py:1: UserWarning: Attempted to set non-positive left xlim on a log-scaled axis.\n",
      "Invalid limit will be ignored.\n",
      "  \"\"\"Entry point for launching an IPython kernel.\n"
     ]
    }
   ],
   "source": [
    "plt.clf()\n",
    "_,_,_ = ctrl.bode(T2, Hz=True, dB=True, margins=True, omega_num=10000, omega_limits=(1e-1, 1e5))#, Plot=False)"
   ]
  },
  {
   "cell_type": "markdown",
   "metadata": {
    "colab_type": "text",
    "id": "2FOCGZQEpxgw"
   },
   "source": [
    "## Escolha do compensador (malha lenta/tensão) : Controlador PI\n",
    "\n",
    "A necessidade neste caso não envolvo o avanço de margim de fase, porém necessita a adição de um zero"
   ]
  },
  {
   "cell_type": "code",
   "execution_count": 53,
   "metadata": {
    "colab": {
     "base_uri": "https://localhost:8080/",
     "height": 136
    },
    "colab_type": "code",
    "id": "3WBkSRJBpxgx",
    "outputId": "d3fb0361-c4a7-4000-8603-09d39d574aaa"
   },
   "outputs": [
    {
     "name": "stdout",
     "output_type": "stream",
     "text": [
      "fz  6.81\n",
      "wz  42.78849194189298\n",
      "\n",
      "s + 42.79\n",
      "---------\n",
      "    s\n",
      "\n"
     ]
    }
   ],
   "source": [
    "fz = 6.81; print('fz ', fz)\n",
    "wz = w_eq(fz); print('wz ', wz) \n",
    "\n",
    "Cv = 1 * (s + wz)/s; print(Cv)"
   ]
  },
  {
   "cell_type": "code",
   "execution_count": 56,
   "metadata": {
    "colab": {
     "base_uri": "https://localhost:8080/",
     "height": 312
    },
    "colab_type": "code",
    "id": "Z0aiTDmLpxgz",
    "outputId": "7a1fbfcb-0d55-4321-aba1-e446348f34c5"
   },
   "outputs": [
    {
     "name": "stdout",
     "output_type": "stream",
     "text": [
      "Clicked at     -50.32    +39.71j gain      1.632 damp      0.785\n",
      "Clicked at     -46.37    +38.23j gain      1.504 damp     0.7716\n",
      "Clicked at     -34.52    +39.34j gain      1.094 damp     0.6596\n",
      "Clicked at      -44.4    +39.34j gain      1.432 damp     0.7484\n"
     ]
    }
   ],
   "source": [
    "plt.clf()\n",
    "ctrl.sisotool(T2*Cv, Hz=True, dB=True, omega_num=10000, omega_limits=(1e-1, 1e2))#, Plot=False)"
   ]
  },
  {
   "cell_type": "code",
   "execution_count": 62,
   "metadata": {
    "colab": {},
    "colab_type": "code",
    "id": "Bp7lbp4apxg3"
   },
   "outputs": [
    {
     "name": "stderr",
     "output_type": "stream",
     "text": [
      "c:\\users\\tiarl\\appdata\\local\\programs\\python\\python37\\lib\\site-packages\\ipykernel_launcher.py:2: UserWarning: Attempted to set non-positive left xlim on a log-scaled axis.\n",
      "Invalid limit will be ignored.\n",
      "  \n"
     ]
    }
   ],
   "source": [
    "Cv_adjus = 1.15 * Cv\n",
    "plt.clf()\n",
    "_,_,_ = ctrl.bode(Cv_adjus*T2, Hz=True, dB=True, margins=True, omega_num=10000, omega_limits=(1e-1, 1e5))#, Plot=False)"
   ]
  },
  {
   "cell_type": "code",
   "execution_count": 63,
   "metadata": {},
   "outputs": [
    {
     "name": "stdout",
     "output_type": "stream",
     "text": [
      "\n",
      "1.15 s + 49.21\n",
      "--------------\n",
      "      s\n",
      "\n"
     ]
    }
   ],
   "source": [
    "print(Cv_adjus)"
   ]
  },
  {
   "cell_type": "code",
   "execution_count": null,
   "metadata": {},
   "outputs": [],
   "source": []
  }
 ],
 "metadata": {
  "colab": {
   "name": "Aula 13 - Modelagem.ipynb",
   "provenance": []
  },
  "kernelspec": {
   "display_name": "Python 3",
   "language": "python",
   "name": "python3"
  },
  "language_info": {
   "codemirror_mode": {
    "name": "ipython",
    "version": 3
   },
   "file_extension": ".py",
   "mimetype": "text/x-python",
   "name": "python",
   "nbconvert_exporter": "python",
   "pygments_lexer": "ipython3",
   "version": "3.7.5"
  }
 },
 "nbformat": 4,
 "nbformat_minor": 1
}
