{
 "cells": [
  {
   "cell_type": "markdown",
   "metadata": {},
   "source": [
    "# Prova 2 (2°/2019) - Solução da Prova 2\n",
    "## DPEE805 - Modelagem e Controle de Conversores\n",
    "### Prof° Cassiano Rech | Acadêmico: Tiarles da Rocha Moralles Guterres\n",
    "\n",
    "#### Informações gerais sobre este arquivo:\n",
    "Este arquivo é um formato impresso de um ambiente em Python chamado Jupyter-notebook. Com o Jupyter-notebook você pode escrever código e documentá-lo simultaneamente, intercalando no que chamamos de células de código, em Python, e células de texto. Apesar de utilizar o navegador e o formato ``.html`` este software possui **nenhuma conexão com a internet**.\n",
    "\n",
    "#### Um pouco sobre sintaxe:\n",
    "Python, diferente de MATLAB, não existe um direcionamento específico para cálculos matriciais e modelagem. Porém, utilizando alguns repositórios (também chamados de módulos) podemos realizar quase todos os procedimentos feitos em MATLAB e de forma bem simples. Python e seus pacotes são *open source*.\n",
    "\n",
    "Os módulos utilizados neste notebook e importados na célula abaixo são:\n",
    "* **matplotlib.pyplot**: Para a geração de figuras a partir de vetores.\n",
    "* **numpy**: É a biblioteca numérica de Python, onde estão implementadas as estruturas e operações com vetores/matrizes.\n",
    "* **control**: Biblioteca com funções semelhantes as do MATLAB para manipular sistemas utilizando diagrama de blocos.\n"
   ]
  },
  {
   "cell_type": "code",
   "execution_count": 3,
   "metadata": {},
   "outputs": [],
   "source": [
    "import control as ctrl\n",
    "import matplotlib.pyplot as plt\n",
    "import numpy as np\n",
    "\n",
    "%matplotlib qt"
   ]
  },
  {
   "cell_type": "markdown",
   "metadata": {},
   "source": [
    "**Algumas Funções**"
   ]
  },
  {
   "cell_type": "code",
   "execution_count": 4,
   "metadata": {},
   "outputs": [],
   "source": [
    "def fz_eq(fc_desired, theta):\n",
    "    num = 1 - np.sin(theta)\n",
    "    den = 1 + np.sin(theta)\n",
    "\n",
    "    return fc_desired * np.sqrt(num/den)\n",
    "\n",
    "\n",
    "def fl_eq(fc_desired, theta):\n",
    "    num = 1 + np.sin(theta)\n",
    "    den = 1 - np.sin(theta)\n",
    "\n",
    "    return fc_desired * np.sqrt(num/den)\n",
    "\n",
    "\n",
    "def w_eq(f):\n",
    "    return 2*np.pi*f\n",
    "\n",
    "\n",
    "def deg_to_radians(deg):\n",
    "    return deg/180*np.pi\n",
    "\n",
    "\n",
    "def radians_to_deg(radius):\n",
    "    return radius/np.pi*180"
   ]
  },
  {
   "cell_type": "markdown",
   "metadata": {},
   "source": [
    "**Parâmetros do conversor**"
   ]
  },
  {
   "cell_type": "code",
   "execution_count": 25,
   "metadata": {},
   "outputs": [],
   "source": [
    "L = 1e-3\n",
    "rL = .1\n",
    "Cref = 470e-6\n",
    "R1 = 175\n",
    "R2 = 350\n",
    "\n",
    "fs = 20e3\n",
    "Lf = 2.5e-3\n",
    "Cdc = 1000e-6\n",
    "\n",
    "Vm = 1\n",
    "Hi = 1\n",
    "Hv = 1/100\n",
    "# Hca = 1/311\n",
    "\n",
    "Vin = 220\n",
    "Vo = 400"
   ]
  },
  {
   "cell_type": "markdown",
   "metadata": {},
   "source": [
    "**Funções de Transferência do sistema**"
   ]
  },
  {
   "cell_type": "code",
   "execution_count": 6,
   "metadata": {},
   "outputs": [
    {
     "name": "stdout",
     "output_type": "stream",
     "text": [
      "\n",
      "s\n",
      "-\n",
      "1\n",
      "\n"
     ]
    }
   ],
   "source": [
    "s = ctrl.tf([1, 0], [1]); print(s)\n",
    "\n",
    "# Gid = -Vo/(2*Lf*s)\n",
    "# Gvi = np.sqrt(2) * Vin_p/(2 * Vo) * 1/(s*Cdc)"
   ]
  },
  {
   "cell_type": "markdown",
   "metadata": {},
   "source": [
    "## Análise da Malha de corrente (Malha Rápida)\n",
    "\n",
    "**Compensador utilizado:** PI. Por necessitar de margem de fase numa frequência de cruzamento específica com adição de um pólo para compensar o efeito de comutação existente que a planta simplificada desconsiderou"
   ]
  },
  {
   "cell_type": "code",
   "execution_count": 11,
   "metadata": {},
   "outputs": [],
   "source": [
    "import warnings\n",
    "warnings.filterwarnings('ignore')\n",
    "\n",
    "# T = Gid * Hi/Vm\n",
    "\n",
    "Ti = -400/(2*2.5e-3*s)"
   ]
  },
  {
   "cell_type": "code",
   "execution_count": 19,
   "metadata": {},
   "outputs": [
    {
     "name": "stdout",
     "output_type": "stream",
     "text": [
      "fz  2679.4919243112276\n",
      "wz  16835.744289538663\n"
     ]
    }
   ],
   "source": [
    "fc = fs/2\n",
    "theta = deg_to_radians(60)\n",
    "\n",
    "fz = fz_eq(fc, theta); print('fz ', fz)\n",
    "wz = w_eq(fz); print('wz ', wz)"
   ]
  },
  {
   "cell_type": "code",
   "execution_count": 20,
   "metadata": {},
   "outputs": [],
   "source": [
    "Ci = -(s + wz) / s"
   ]
  },
  {
   "cell_type": "code",
   "execution_count": 21,
   "metadata": {},
   "outputs": [
    {
     "name": "stdout",
     "output_type": "stream",
     "text": [
      "Clicked at      -3159+1.016e+04j gain   -0.08129 damp     0.2968\n",
      "Clicked at      -3159+1.016e+04j gain   -0.08129 damp     0.2968\n",
      "Clicked at      -3159+1.016e+04j gain    0.08129 damp     0.2968\n",
      "Clicked at      -3159+1.016e+04j gain    0.08304 damp     0.2968\n",
      "Clicked at      -9017+1.448e+04j gain    -0.1581 damp     0.5285\n",
      "Clicked at      -9017+1.448e+04j gain    -0.1581 damp     0.5285\n",
      "Clicked at      -9017+1.448e+04j gain     0.1581 damp     0.5285\n",
      "Clicked at      -9017+1.448e+04j gain     0.2209 damp     0.5285\n",
      "Clicked at      -1903     +6804j gain    -0.0616 damp     0.2694\n",
      "Clicked at      -1903     +6804j gain    -0.0616 damp     0.2694\n",
      "Clicked at      -1903     +6804j gain     0.0616 damp     0.2694\n",
      "Clicked at      -1903     +6804j gain    0.03776 damp     0.2694\n",
      "Clicked at      -3995+1.016e+04j gain   -0.09289 damp     0.3659\n",
      "Clicked at      -3995+1.016e+04j gain   -0.09289 damp     0.3659\n",
      "Clicked at      -3995+1.016e+04j gain    0.09289 damp     0.3659\n",
      "Clicked at      -3995+1.016e+04j gain    0.09075 damp     0.3659\n"
     ]
    }
   ],
   "source": [
    "ctrl.sisotool(Ci * Ti, Hz=True, dB=True, omega_num=1000, omega_limits=(1, 1e6))"
   ]
  },
  {
   "cell_type": "markdown",
   "metadata": {},
   "source": [
    "**Diagrama de bode após o ajuste no \"sisotool\"**"
   ]
  },
  {
   "cell_type": "code",
   "execution_count": 23,
   "metadata": {},
   "outputs": [],
   "source": [
    "Ci_ajus = 0.1 * Ci\n",
    "plt.clf()\n",
    "_,_,_ = ctrl.bode(Ci_ajus * Ti, Hz=True, dB=True, margins=True, omega_num=10000, omega_limits=(1, 1e6))#, Plot=False)"
   ]
  },
  {
   "cell_type": "markdown",
   "metadata": {},
   "source": [
    "## Análise da Malha de tensão (Malha Lenta)\n",
    "\n",
    "**Compensador utilizado:** PI\n",
    "\n",
    "$C_{PI} = K_{PI} \\frac{1}{s}$"
   ]
  },
  {
   "cell_type": "code",
   "execution_count": 32,
   "metadata": {},
   "outputs": [],
   "source": [
    "Kv = 1 /np.sqrt(2) # Senóide de amplitude 1 V \n",
    "\n",
    "T2 = 220/(2*400) * 1/(s*1000e-6) * 1/100"
   ]
  },
  {
   "cell_type": "code",
   "execution_count": 36,
   "metadata": {},
   "outputs": [],
   "source": [
    "Cv = (s + 2)/s  # Planta com pólo nulo"
   ]
  },
  {
   "cell_type": "code",
   "execution_count": 37,
   "metadata": {},
   "outputs": [
    {
     "name": "stdout",
     "output_type": "stream",
     "text": [
      "Clicked at     -12.16  +0.08598j gain      5.291 damp          1\n",
      "Clicked at     -19.26    +0.181j gain      7.817 damp          1\n",
      "Clicked at     -1.767    +1.968j gain      1.284 damp     0.6682\n",
      "Clicked at     -3.507    +1.207j gain       2.59 damp     0.9455\n",
      "Clicked at      329.7    -5.539j gain     -119.2 damp    -0.9999\n",
      "Clicked at     -282.9    +1.258j gain      103.6 damp          1\n",
      "Clicked at     -146.1   +0.2509j gain      53.87 damp          1\n",
      "Clicked at     -61.01   +0.2509j gain      22.94 damp          1\n",
      "Clicked at     -45.66   -0.2526j gain      17.36 damp          1\n",
      "Clicked at     -38.68-0.0008615j gain      14.83 damp          1\n"
     ]
    }
   ],
   "source": [
    "plt.clf()\n",
    "ctrl.sisotool(Cv * T2, Hz=True, dB=True)"
   ]
  },
  {
   "cell_type": "markdown",
   "metadata": {},
   "source": [
    "**Diagrama de bode após ajustar o ganho no \"sisotool\"**"
   ]
  },
  {
   "cell_type": "code",
   "execution_count": 38,
   "metadata": {},
   "outputs": [],
   "source": [
    "Cv_adjus = 14*Cv\n",
    "plt.clf()\n",
    "_,_,_ = ctrl.bode(Cv_adjus * T2, Hz=True, dB=True, margins=True, omega_num=10000, omega_limits=(1, 1e6))#, Plot=False)"
   ]
  },
  {
   "cell_type": "code",
   "execution_count": null,
   "metadata": {},
   "outputs": [],
   "source": []
  }
 ],
 "metadata": {
  "kernelspec": {
   "display_name": "Python 3",
   "language": "python",
   "name": "python3"
  },
  "language_info": {
   "codemirror_mode": {
    "name": "ipython",
    "version": 3
   },
   "file_extension": ".py",
   "mimetype": "text/x-python",
   "name": "python",
   "nbconvert_exporter": "python",
   "pygments_lexer": "ipython3",
   "version": "3.7.5"
  }
 },
 "nbformat": 4,
 "nbformat_minor": 2
}
