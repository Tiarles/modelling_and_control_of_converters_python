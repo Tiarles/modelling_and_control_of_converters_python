{
 "cells": [
  {
   "cell_type": "code",
   "execution_count": 1,
   "metadata": {},
   "outputs": [],
   "source": [
    "import control as ctrl\n",
    "import numpy as np\n",
    "import matplotlib.pyplot as plt"
   ]
  },
  {
   "cell_type": "code",
   "execution_count": 8,
   "metadata": {},
   "outputs": [],
   "source": [
    "def fz_eq(fc_desired, theta):\n",
    "    num = 1 - np.sin(theta)\n",
    "    den = 1 + np.sin(theta)\n",
    "\n",
    "    return fc_desired * np.sqrt(num/den)\n",
    "\n",
    "\n",
    "def fl_eq(fc_desired, theta):\n",
    "    num = 1 + np.sin(theta)\n",
    "    den = 1 - np.sin(theta)\n",
    "\n",
    "    return fc_desired * np.sqrt(num/den)\n",
    "\n",
    "\n",
    "def w_eq(f):\n",
    "    return 2*np.pi*f\n",
    "\n",
    "\n",
    "def deg_to_radians(deg):\n",
    "    return deg/180*np.pi\n",
    "\n",
    "\n",
    "def radians_to_deg(radius):\n",
    "    return radius/np.pi*180"
   ]
  },
  {
   "cell_type": "code",
   "execution_count": 68,
   "metadata": {},
   "outputs": [],
   "source": [
    "Vcc = 400\n",
    "L = 2e-3\n",
    "Vm = 5\n",
    "Vpp = 311\n",
    "\n",
    "fs = 24e3\n",
    "\n",
    "Hi = 1/2\n",
    "Hca = 1/100\n",
    "\n",
    "s = ctrl.tf([1, 0], [1])"
   ]
  },
  {
   "cell_type": "code",
   "execution_count": 79,
   "metadata": {},
   "outputs": [],
   "source": [
    "# Gid = -Vcc/(2*L*s)\n",
    "Ti = 1 * 1/5 * 1/2 * (-400/(2*2e-3*s))"
   ]
  },
  {
   "cell_type": "code",
   "execution_count": 80,
   "metadata": {},
   "outputs": [],
   "source": [
    "fc = fs/2\n",
    "\n",
    "fz = fz_eq(fc, np.radians(60))\n",
    "\n",
    "wz = w_eq(fz)\n",
    "\n",
    "Ci = -(s + wz)/s"
   ]
  },
  {
   "cell_type": "code",
   "execution_count": 75,
   "metadata": {},
   "outputs": [
    {
     "name": "stdout",
     "output_type": "stream",
     "text": [
      "Clicked at      -3790     +9509j gain      26.87 damp     0.3703\n",
      "Clicked at      -7305+1.546e+04j gain      72.61 damp     0.4272\n",
      "Clicked at      -6803 +1.45e+04j gain      64.88 damp     0.4247\n",
      "Clicked at      -2786+1.335e+04j gain      41.13 damp     0.2043\n",
      "Clicked at      -5297+1.412e+04j gain      55.32 damp     0.3513\n"
     ]
    }
   ],
   "source": [
    "import warnings\n",
    "warnings.filterwarnings('ignore')\n",
    "\n",
    "%matplotlib qt\n",
    "ctrl.sisotool(Ti * Ci, Hz=True)"
   ]
  },
  {
   "cell_type": "code",
   "execution_count": 81,
   "metadata": {},
   "outputs": [],
   "source": [
    "Ci_adapt = .9 * Ci\n",
    "plt.clf()\n",
    "_, _, _ = ctrl.bode(Ti*Ci_adapt, Hz=True, margins=True)"
   ]
  },
  {
   "cell_type": "code",
   "execution_count": 119,
   "metadata": {},
   "outputs": [
    {
     "data": {
      "text/plain": [
       "array([-10.41666667])"
      ]
     },
     "execution_count": 119,
     "metadata": {},
     "output_type": "execute_result"
    }
   ],
   "source": [
    "R = 80\n",
    "C = 1200e-6\n",
    "Gvi = 220/400 * R/(R*C*s + 1)\n",
    "ctrl.pole(Gvi)"
   ]
  },
  {
   "cell_type": "code",
   "execution_count": 118,
   "metadata": {},
   "outputs": [],
   "source": [
    "Tv = 2.20 * 2 * 220/400 * R/(R*C*s + 1) * 1/100 * 1  "
   ]
  },
  {
   "cell_type": "code",
   "execution_count": 124,
   "metadata": {},
   "outputs": [],
   "source": [
    "Cv = (s + 10)/s"
   ]
  },
  {
   "cell_type": "code",
   "execution_count": 125,
   "metadata": {},
   "outputs": [
    {
     "name": "stdout",
     "output_type": "stream",
     "text": [
      "Clicked at     -24.43  +0.02956j gain      1.177 damp          1\n",
      "Clicked at     -34.48  +0.04896j gain      1.681 damp          1\n",
      "Clicked at     -36.76  +0.02956j gain      1.794 damp          1\n",
      "Clicked at      -38.4  +0.02956j gain      1.876 damp          1\n"
     ]
    }
   ],
   "source": [
    "import warnings\n",
    "warnings.filterwarnings('ignore')\n",
    "\n",
    "%matplotlib qt\n",
    "ctrl.sisotool(Tv * Cv, Hz=True)"
   ]
  },
  {
   "cell_type": "code",
   "execution_count": 126,
   "metadata": {},
   "outputs": [],
   "source": [
    "Cv_adapt = 1.876 * Cv\n",
    "plt.clf()\n",
    "_, _, _ = ctrl.bode(Tv*Cv_adapt, Hz=True, margins=True)"
   ]
  },
  {
   "cell_type": "code",
   "execution_count": 127,
   "metadata": {},
   "outputs": [
    {
     "data": {
      "text/plain": [
       "160.0"
      ]
     },
     "execution_count": 127,
     "metadata": {},
     "output_type": "execute_result"
    }
   ],
   "source": [
    "400**2/1e3"
   ]
  },
  {
   "cell_type": "code",
   "execution_count": 128,
   "metadata": {},
   "outputs": [
    {
     "data": {
      "text/plain": [
       "40.0"
      ]
     },
     "execution_count": 128,
     "metadata": {},
     "output_type": "execute_result"
    }
   ],
   "source": []
  },
  {
   "cell_type": "code",
   "execution_count": null,
   "metadata": {},
   "outputs": [],
   "source": []
  }
 ],
 "metadata": {
  "kernelspec": {
   "display_name": "Python 3",
   "language": "python",
   "name": "python3"
  },
  "language_info": {
   "codemirror_mode": {
    "name": "ipython",
    "version": 3
   },
   "file_extension": ".py",
   "mimetype": "text/x-python",
   "name": "python",
   "nbconvert_exporter": "python",
   "pygments_lexer": "ipython3",
   "version": "3.7.5"
  }
 },
 "nbformat": 4,
 "nbformat_minor": 2
}
