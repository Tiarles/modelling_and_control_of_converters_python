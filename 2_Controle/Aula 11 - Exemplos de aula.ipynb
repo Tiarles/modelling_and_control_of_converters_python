{
 "cells": [
  {
   "cell_type": "markdown",
   "metadata": {},
   "source": [
    "# Controle em Python\n",
    "Material da disciplina de Modelagem e Controle de Conversores do \n",
    "Mestrado em Engenharia Elétrica da Universidade Federal de Santa Maria, \n",
    "ministrada pelo **Profº Cassiano Rech** (2/2019).\n",
    "\n",
    "**Autor:** Tiarles da Rocha Moralles Guterres (Engenheiro de Computação - UFSM)\n",
    "\n",
    "**Controles:**\n",
    "* [Proporcional](#slide1)\n",
    "* [Integral](#slide2)\n",
    "* [Proporcional-Derivativo](#slide3)\n",
    "\n",
    "**Bibliotecas de Controle utilizadas:**\n",
    "* **control:** Biblioteca que implementa a álgebra de blocos para a construção de sistemas.\n",
    "* **scipy.signal:** Biblioteca que implementa a análise dos sistemas. Essa biblioteca não \n",
    "possui algumas funções que aplicam a álgebra de blocos, que é presente em ``control``."
   ]
  },
  {
   "cell_type": "code",
   "execution_count": null,
   "metadata": {},
   "outputs": [],
   "source": [
    "import control as ctrl\n",
    "import control.matlab as matlab\n",
    "import numpy as np\n",
    "import matplotlib.pyplot as plt\n",
    "\n",
    "import scipy.signal as sig"
   ]
  },
  {
   "cell_type": "markdown",
   "metadata": {},
   "source": [
    "<a id=slide1></a>\n",
    "<img src='images/img1.jpg' width=600px/>"
   ]
  },
  {
   "cell_type": "code",
   "execution_count": null,
   "metadata": {},
   "outputs": [],
   "source": [
    "Ks = [.01, .1, 1]\n",
    "\n",
    "Vg = 100; Vo = 50; L = 250e-6\n",
    "R = 2; C = 220e-6; f = 50e3\n",
    "\n",
    "num = [1/L/C]\n",
    "den = [1, 1/R/C, 1/L/C]\n",
    "\n",
    "G = Vg * ctrl.tf(num, den)"
   ]
  },
  {
   "cell_type": "code",
   "execution_count": null,
   "metadata": {},
   "outputs": [],
   "source": [
    "# C_Rs = {}\n",
    "\n",
    "# for K in Ks:\n",
    "#     tmp_feedback_sys = ctrl.feedback(K * G, 1)\n",
    "#     num = tmp_feedback_sys.num[0][0]\n",
    "#     den = tmp_feedback_sys.den[0][0]\n",
    "#     tmp_TransferFunction = sig.TransferFunction(num, den)\n",
    "#     C_Rs[K] = {'tf': tmp_TransferFunction,\n",
    "#                'block': tmp_feedback_sys}\n",
    "# plot_color = {.01: 'blue', .1: 'green', 1: 'red'}"
   ]
  },
  {
   "cell_type": "code",
   "execution_count": null,
   "metadata": {
    "scrolled": false
   },
   "outputs": [],
   "source": [
    "t = np.arange(0, .01, 1e-5)\n",
    "Vo_a = np.ones(t.size) * Vo\n",
    "\n",
    "# plt.figure(figsize=(12, 6))\n",
    "# plt.title('Step response of feedback system')\n",
    "# for K, sys in C_Rs.items():\n",
    "#     tf = sys['tf']\n",
    "#     t, y, x = sig.lsim2(tf, Vo_a, t)\n",
    "#     plt.plot(t, y, label='K = %.2f' % K, color=plot_color[K])\n",
    "# plt.legend()\n",
    "# plt.grid()\n",
    "# plt.show()"
   ]
  },
  {
   "cell_type": "code",
   "execution_count": null,
   "metadata": {},
   "outputs": [],
   "source": [
    "# t, x, y = sig.lsim(G, Vo, T=t)\n",
    "# plt.plot(t, y)\n",
    "%matplotlib qt\n",
    "ctrl.sisotool(G, kvect=[1, .1, .01])"
   ]
  },
  {
   "cell_type": "code",
   "execution_count": null,
   "metadata": {},
   "outputs": [],
   "source": [
    "%matplotlib inline\n",
    "ctrl.sisotool(C_Rs[1]['block'], kvect=[1, .1, .01], Hz=True, tvect=t)"
   ]
  },
  {
   "cell_type": "code",
   "execution_count": null,
   "metadata": {},
   "outputs": [],
   "source": [
    "ctrl.sisotool"
   ]
  },
  {
   "cell_type": "markdown",
   "metadata": {},
   "source": [
    "<a id=slide2></a>\n",
    "<img src='images/img2.jpg' width=600px/>"
   ]
  },
  {
   "cell_type": "code",
   "execution_count": null,
   "metadata": {},
   "outputs": [],
   "source": [
    "Ks = [5, 15, 25]\n",
    "\n",
    "Vin = 100; Vo = 50; L = 250e-6\n",
    "R = 2; C = 220e-6; f = 50e3\n",
    "\n",
    "num = [1/L/C]\n",
    "den = [1, 1/R/C, 1/L/C]\n",
    "s = ctrl.tf([1, 0], [1])\n",
    "\n",
    "G = Vg * ctrl.tf(num, den)"
   ]
  },
  {
   "cell_type": "code",
   "execution_count": null,
   "metadata": {},
   "outputs": [],
   "source": [
    "C_Rs = {}\n",
    "\n",
    "for K in Ks:\n",
    "    tmp_feedback_sys = ctrl.feedback(K/s* G, 1)\n",
    "    num = tmp_feedback_sys.num[0][0]\n",
    "    den = tmp_feedback_sys.den[0][0]\n",
    "    tmp_TransferFunction = sig.TransferFunction(num, den)\n",
    "    C_Rs[K] = {'tf': tmp_TransferFunction,\n",
    "               'block': tmp_feedback_sys}\n",
    "plot_color = {5: 'blue', 15: 'green', 25: 'red'} "
   ]
  },
  {
   "cell_type": "code",
   "execution_count": null,
   "metadata": {},
   "outputs": [],
   "source": [
    "%matplotlib inline\n",
    "mpld3.enable_notebook()\n",
    "# mpld3.diseable_notebook()\n",
    "\n",
    "t = np.linspace(0, .01, 1000)\n",
    "plt.figure(figsize=(12, 6))\n",
    "plt.title('Step response of feedback system')\n",
    "for K in C_Rs:\n",
    "    x1, y1 = ctrl.step_response(C_Rs[K], T=t)\n",
    "    plt.plot(x1, y1, label='K = %.2f' % K, color=plot_color[K])\n",
    "plt.legend()\n",
    "plt.grid()\n",
    "plt.show()"
   ]
  },
  {
   "cell_type": "code",
   "execution_count": null,
   "metadata": {},
   "outputs": [],
   "source": [
    "%matplotlib qt\n",
    "t = np.linspace(0, .05, 2500)\n",
    "ctrl.sisotool(C_Rs[5], Hz=True, tvect=t)"
   ]
  },
  {
   "cell_type": "markdown",
   "metadata": {},
   "source": [
    "<a id=slide3></a>\n",
    "<img src='images/img3.jpg' width=600px/>"
   ]
  },
  {
   "cell_type": "code",
   "execution_count": null,
   "metadata": {},
   "outputs": [],
   "source": [
    "Ks = [.1, .5, 2.5]\n",
    "\n",
    "Vin = 100; Vo = 50; L = 250e-6\n",
    "R = 2; C = 220e-6; f = 50e3\n",
    "\n",
    "num = [1/L/C]\n",
    "den = [1, 1/R/C, 1/L/C]\n",
    "s = ctrl.tf([1, 0], [1])\n",
    "\n",
    "G = Vin * ctrl.tf(num, den)\n",
    "\n",
    "C_Rs = {K: ctrl.feedback(K/s*G, 1) for K in Ks}\n",
    "plot_color = {.1: 'blue', .5: 'green', 2.5: 'red'} "
   ]
  },
  {
   "cell_type": "code",
   "execution_count": null,
   "metadata": {},
   "outputs": [],
   "source": []
  },
  {
   "cell_type": "code",
   "execution_count": null,
   "metadata": {},
   "outputs": [],
   "source": [
    "import pandas as pd\n",
    "import numpy as np"
   ]
  },
  {
   "cell_type": "code",
   "execution_count": null,
   "metadata": {},
   "outputs": [],
   "source": [
    "df = pd.DataFrame([1,1,1,1,2,2,2,2,2], index=[1,2,3,4,5,6,7,8,9], columns=['fundVab'])\n",
    "for i in df:\n",
    "    print(i)\n",
    "    print(df[i])"
   ]
  },
  {
   "cell_type": "code",
   "execution_count": null,
   "metadata": {},
   "outputs": [],
   "source": []
  },
  {
   "cell_type": "code",
   "execution_count": null,
   "metadata": {},
   "outputs": [],
   "source": [
    "s = ctrl.tf([1, 0], [1]); s"
   ]
  },
  {
   "cell_type": "code",
   "execution_count": null,
   "metadata": {},
   "outputs": [],
   "source": [
    "GH = 1/ (s * (s+4) * (s**2 + 4*s + 20)); 2 * GH"
   ]
  },
  {
   "cell_type": "code",
   "execution_count": null,
   "metadata": {},
   "outputs": [],
   "source": [
    "GH = ctrl.tf([1], [1, 8, 36, 80, 0]); GH"
   ]
  },
  {
   "cell_type": "code",
   "execution_count": null,
   "metadata": {},
   "outputs": [],
   "source": [
    "GH = sig.ZerosPolesGain([], [0, -4, -2+4j, -2-4j], 1)\n",
    "GH = ctrl.tf(GH.to_tf().num, GH.to_tf().den); GH"
   ]
  },
  {
   "cell_type": "code",
   "execution_count": null,
   "metadata": {},
   "outputs": [],
   "source": [
    "%matplotlib qt\n",
    "# ctrl.pzmap(GH, grid=True)\n",
    "# ctrl.rlocus(GH, grid=True)\n",
    "ctrl.sisotool(GH)"
   ]
  },
  {
   "cell_type": "code",
   "execution_count": null,
   "metadata": {},
   "outputs": [],
   "source": [
    "?"
   ]
  },
  {
   "cell_type": "code",
   "execution_count": null,
   "metadata": {},
   "outputs": [],
   "source": [
    "import matplotlib.pyplot as plt\n",
    "\n",
    "%matplotlib inline\n",
    "\n",
    "t = np.linspace(0, 2/60, 2048)\n",
    "y = 311*np.abs(np.sin(2*np.pi*60*t))\n",
    "# y = 311*np.sin(2*np.pi*60*t)\n",
    "\n",
    "plt.plot(t, y)\n",
    "plt.hlines(y.mean(), t[0], t[-1])\n",
    "plt.grid()\n",
    "plt.show()\n",
    "\n",
    "print(y.max() - y.mean())"
   ]
  },
  {
   "cell_type": "code",
   "execution_count": null,
   "metadata": {},
   "outputs": [],
   "source": [
    "from numpy.fft import fft, fftfreq\n",
    "\n",
    "Y = np.abs(fft(y)[:y.size//2])/y.size * 2\n",
    "Y[0] = Y[0]/2\n",
    "f = fftfreq(y.size, t[1] - t[0])[:y.size//2]\n",
    "plt.plot(f, Y, 'bo-')\n",
    "plt.xlim(0, 130)"
   ]
  },
  {
   "cell_type": "code",
   "execution_count": null,
   "metadata": {},
   "outputs": [],
   "source": [
    "f"
   ]
  },
  {
   "cell_type": "code",
   "execution_count": null,
   "metadata": {},
   "outputs": [],
   "source": [
    "s = ctrl.tf([1, 0], [1]); s"
   ]
  },
  {
   "cell_type": "code",
   "execution_count": null,
   "metadata": {},
   "outputs": [],
   "source": [
    "4/(s-1)"
   ]
  },
  {
   "cell_type": "code",
   "execution_count": null,
   "metadata": {},
   "outputs": [],
   "source": [
    "mag, phase, omega = ctrl.bode(1/(.2*s + 1))\n",
    "# ctrl.bode?"
   ]
  },
  {
   "cell_type": "code",
   "execution_count": null,
   "metadata": {},
   "outputs": [],
   "source": []
  },
  {
   "cell_type": "markdown",
   "metadata": {},
   "source": [
    "## Aula 12: Projeto de Compensadores\n",
    "A planta não compensada"
   ]
  },
  {
   "cell_type": "code",
   "execution_count": 1,
   "metadata": {},
   "outputs": [
    {
     "data": {
      "text/latex": [
       "$$\\frac{3.733e+08}{4 s^2 + 2667 s + 1.6e+08}$$"
      ],
      "text/plain": [
       "\n",
       "        3.733e+08\n",
       "------------------------\n",
       "4 s^2 + 2667 s + 1.6e+08"
      ]
     },
     "execution_count": 1,
     "metadata": {},
     "output_type": "execute_result"
    }
   ],
   "source": [
    "import control as ctrl\n",
    "import numpy as np\n",
    "\n",
    "L = 50e-6; C = 500e-6; R = 3; Vg = 28\n",
    "\n",
    "num = [Vg/(L*C)]\n",
    "den = [1, 1/(R*C), 1/(L*C)]\n",
    "\n",
    "Gvd = ctrl.tf(num, den)\n",
    "H = 1/3\n",
    "Vm = 4\n",
    "\n",
    "T = Gvd * H * 1/Vm; T"
   ]
  },
  {
   "cell_type": "code",
   "execution_count": 2,
   "metadata": {},
   "outputs": [
    {
     "data": {
      "image/png": "[encoded data removed]",
      "text/plain": [
       "<Figure size 432x288 with 2 Axes>"
      ]
     },
     "metadata": {
      "needs_background": "light"
     },
     "output_type": "display_data"
    }
   ],
   "source": [
    "# ctrl.sisotool(T)\n",
    "mag, phase, omega = ctrl.bode(T, dB=True, omega_limits=(1, 1e5), omega_num=10000, margins=True, Hz=True)"
   ]
  },
  {
   "cell_type": "code",
   "execution_count": 3,
   "metadata": {},
   "outputs": [
    {
     "name": "stdout",
     "output_type": "stream",
     "text": [
      "fz =  2679.4919243112276\n",
      "fp =  37320.50807568876\n",
      "wz  16964.600329384884\n",
      "wp  234362.81195779858\n"
     ]
    }
   ],
   "source": [
    "fc = 10e3\n",
    "theta = 60/180*np.pi\n",
    "\n",
    "fz = fc * np.sqrt((1 - np.sin(theta))/(1 + np.sin(theta))); print('fz = ', fz)\n",
    "fp = fc * np.sqrt((1 + np.sin(theta))/(1 - np.sin(theta))); print('fp = ', fp)\n",
    "\n",
    "s = ctrl.tf([1, 0], [1])\n",
    "# wz = 2 * np.pi * fz; print('wz ', wz)\n",
    "# wp = 2 * np.pi * fp; print('wp ', wp)\n",
    "wz = 2 * np.pi * 2.7e3; print('wz ', wz)\n",
    "wp = 2 * np.pi * 37.3e3; print('wp ', wp)\n",
    "\n",
    "Gpd = (1 + s / wz) / (1 + s / wp)"
   ]
  },
  {
   "cell_type": "code",
   "execution_count": 4,
   "metadata": {},
   "outputs": [
    {
     "name": "stdout",
     "output_type": "stream",
     "text": [
      "fl  1000.0\n",
      "wl  6283.185307179586\n"
     ]
    }
   ],
   "source": [
    "fl = fc/10; print('fl ', fl)\n",
    "\n",
    "wl = 2 * np.pi * fl; print('wl ', wl)\n",
    "Gc = (1 + wl / s)"
   ]
  },
  {
   "cell_type": "code",
   "execution_count": 9,
   "metadata": {},
   "outputs": [
    {
     "name": "stderr",
     "output_type": "stream",
     "text": [
      "c:\\users\\tiarl\\appdata\\local\\programs\\python\\python37-32\\lib\\site-packages\\scipy\\sparse\\linalg\\matfuncs.py:716: LinAlgWarning: Ill-conditioned matrix (rcond=7.16541e-22): result may not be accurate.\n",
      "  return solve(Q, P)\n"
     ]
    },
    {
     "name": "stdout",
     "output_type": "stream",
     "text": [
      "Clicked at -2.253e+05-1.253e+04j gain       1.87 damp     0.9985\n"
     ]
    },
    {
     "name": "stderr",
     "output_type": "stream",
     "text": [
      "c:\\users\\tiarl\\appdata\\local\\programs\\python\\python37-32\\lib\\site-packages\\scipy\\sparse\\linalg\\matfuncs.py:716: LinAlgWarning: Ill-conditioned matrix (rcond=4.37069e-22): result may not be accurate.\n",
      "  return solve(Q, P)\n"
     ]
    },
    {
     "name": "stdout",
     "output_type": "stream",
     "text": [
      "Clicked at -2.185e+05+1.696e+04j gain      3.221 damp      0.997\n"
     ]
    },
    {
     "name": "stderr",
     "output_type": "stream",
     "text": [
      "c:\\users\\tiarl\\appdata\\local\\programs\\python\\python37-32\\lib\\site-packages\\scipy\\sparse\\linalg\\matfuncs.py:716: LinAlgWarning: Ill-conditioned matrix (rcond=1.01071e-22): result may not be accurate.\n",
      "  return solve(Q, P)\n"
     ]
    },
    {
     "name": "stdout",
     "output_type": "stream",
     "text": [
      "Clicked at -2.095e+05+1.696e+04j gain      4.748 damp     0.9967\n"
     ]
    },
    {
     "name": "stderr",
     "output_type": "stream",
     "text": [
      "c:\\users\\tiarl\\appdata\\local\\programs\\python\\python37-32\\lib\\site-packages\\scipy\\sparse\\linalg\\matfuncs.py:716: LinAlgWarning: Ill-conditioned matrix (rcond=5.25552e-23): result may not be accurate.\n",
      "  return solve(Q, P)\n"
     ]
    },
    {
     "name": "stdout",
     "output_type": "stream",
     "text": [
      "Clicked at -1.856e+05 +3.17e+04j gain      8.737 damp     0.9857\n"
     ]
    },
    {
     "name": "stderr",
     "output_type": "stream",
     "text": [
      "c:\\users\\tiarl\\appdata\\local\\programs\\python\\python37-32\\lib\\site-packages\\scipy\\sparse\\linalg\\matfuncs.py:716: LinAlgWarning: Ill-conditioned matrix (rcond=1.78851e-23): result may not be accurate.\n",
      "  return solve(Q, P)\n"
     ]
    },
    {
     "name": "stdout",
     "output_type": "stream",
     "text": [
      "Clicked at -1.782e+05 +3.17e+04j gain       9.63 damp     0.9845\n"
     ]
    },
    {
     "name": "stderr",
     "output_type": "stream",
     "text": [
      "c:\\users\\tiarl\\appdata\\local\\programs\\python\\python37-32\\lib\\site-packages\\scipy\\sparse\\linalg\\matfuncs.py:716: LinAlgWarning: Ill-conditioned matrix (rcond=1.49843e-23): result may not be accurate.\n",
      "  return solve(Q, P)\n"
     ]
    },
    {
     "name": "stdout",
     "output_type": "stream",
     "text": [
      "Clicked at -1.618e+05 +3.17e+04j gain      11.31 damp     0.9813\n"
     ]
    },
    {
     "name": "stderr",
     "output_type": "stream",
     "text": [
      "c:\\users\\tiarl\\appdata\\local\\programs\\python\\python37-32\\lib\\site-packages\\scipy\\sparse\\linalg\\matfuncs.py:716: LinAlgWarning: Ill-conditioned matrix (rcond=1.11565e-23): result may not be accurate.\n",
      "  return solve(Q, P)\n"
     ]
    },
    {
     "name": "stdout",
     "output_type": "stream",
     "text": [
      "Clicked at  -1.48e+05+3.662e+04j gain      12.66 damp     0.9707\n"
     ]
    },
    {
     "name": "stderr",
     "output_type": "stream",
     "text": [
      "c:\\users\\tiarl\\appdata\\local\\programs\\python\\python37-32\\lib\\site-packages\\scipy\\sparse\\linalg\\matfuncs.py:716: LinAlgWarning: Ill-conditioned matrix (rcond=9.06257e-24): result may not be accurate.\n",
      "  return solve(Q, P)\n"
     ]
    }
   ],
   "source": [
    "%matplotlib qt\n",
    "\n",
    "# mag, phase, omega = ctrl.bode(T_closed, dB=True, omega_limits=(1e2, 1e5), omega_num=10000, margins=True, Hz=True)\n",
    "ctrl.sisotool(T * Gpd * Gc, dB=True, omega_limits=(1, 1e5), omega_num=10000)"
   ]
  },
  {
   "cell_type": "code",
   "execution_count": null,
   "metadata": {},
   "outputs": [],
   "source": []
  },
  {
   "cell_type": "markdown",
   "metadata": {},
   "source": [
    "Projeto do PFP"
   ]
  },
  {
   "cell_type": "code",
   "execution_count": null,
   "metadata": {},
   "outputs": [],
   "source": [
    "import control as ctrl\n",
    "import scipy.signal as sig"
   ]
  },
  {
   "cell_type": "code",
   "execution_count": null,
   "metadata": {},
   "outputs": [],
   "source": [
    "s = ctrl.tf([1, 0], [1])\n",
    "\n",
    "R = 213.4; C = 680e-6; L = 650e-6; Vo = 40\n",
    "\n",
    "D_l = [.98, .5, 0]\n",
    "Gid_l = []\n",
    "\n",
    "for D in D_l:\n",
    "    num = Vo/L * (s + 2/R/C)\n",
    "    den = s**2 + s/R/C + (1-D)**2/L/C\n",
    "\n",
    "    Gid = num / den\n",
    "    Gid_l.append(Gid)"
   ]
  },
  {
   "cell_type": "code",
   "execution_count": null,
   "metadata": {},
   "outputs": [],
   "source": [
    "%matplotlib inline\n",
    "for Gid in Gid_l:\n",
    "    mag, phase, omega = ctrl.bode(Gid, dB=True, omega_limits=(1, 1e5), margins=True, Hz=True)\n",
    "\n",
    "num = Vo/L\n",
    "den = s\n",
    "Gid = num/den\n",
    "mag, phase, omega = ctrl.bode(Gid, dB=True, omega_limits=(1, 1e5), margins=True, Hz=True)"
   ]
  },
  {
   "cell_type": "code",
   "execution_count": null,
   "metadata": {},
   "outputs": [],
   "source": [
    "Hi = 1/10\n",
    "Vm = 5\n",
    "\n",
    "Gid = num/den * Hi/Vm\n",
    "\n",
    "mag, phase, omega = ctrl.bode(Gid, omega_limits=(10, 1e6), dB=True, margins=True, Hz=True)"
   ]
  },
  {
   "cell_type": "code",
   "execution_count": null,
   "metadata": {},
   "outputs": [],
   "source": [
    "import numpy as np\n",
    "\n",
    "fs = 70e3\n",
    "He = s**2/(np.pi * fs)**2 - s/(2*fs) + 1\n",
    "\n",
    "Gid = num/den * Hi/Vm * He\n",
    "\n",
    "%matplotlib inline\n",
    "mag, phase, omega = ctrl.bode(Gid, omega_limits=(10, 1e6), dB=True, margins=True, Hz=True)"
   ]
  },
  {
   "cell_type": "code",
   "execution_count": null,
   "metadata": {},
   "outputs": [],
   "source": [
    "import numpy as np\n",
    "\n",
    "theta = 35/180*np.pi\n",
    "fc = 7e3\n",
    "fz = fc * np.sqrt((1-np.sin(theta))/(1+np.sin(theta))); fz * 2 * np.pi"
   ]
  },
  {
   "cell_type": "code",
   "execution_count": null,
   "metadata": {},
   "outputs": [],
   "source": [
    "fz = 23400 / 2 / np.pi; fz"
   ]
  },
  {
   "cell_type": "code",
   "execution_count": null,
   "metadata": {},
   "outputs": [],
   "source": [
    "ws = 2*np.pi*fs\n",
    "\n",
    "pc = ws/2; print('pc ', pc)"
   ]
  },
  {
   "cell_type": "code",
   "execution_count": null,
   "metadata": {},
   "outputs": [],
   "source": [
    "23400/2/np.pi"
   ]
  },
  {
   "cell_type": "code",
   "execution_count": null,
   "metadata": {},
   "outputs": [],
   "source": [
    "F"
   ]
  },
  {
   "cell_type": "markdown",
   "metadata": {},
   "source": [
    "# Prova 2\n",
    "Exercício em Aula"
   ]
  },
  {
   "cell_type": "code",
   "execution_count": 18,
   "metadata": {},
   "outputs": [],
   "source": [
    "import control as ctrl\n",
    "import numpy as np"
   ]
  },
  {
   "cell_type": "code",
   "execution_count": 27,
   "metadata": {},
   "outputs": [
    {
     "name": "stdout",
     "output_type": "stream",
     "text": [
      "\n",
      "  -400\n",
      "-------\n",
      "0.005 s\n",
      "\n"
     ]
    },
    {
     "data": {
      "image/png": "[encoded data removed]",
      "text/plain": [
       "<Figure size 432x288 with 2 Axes>"
      ]
     },
     "metadata": {
      "needs_background": "light"
     },
     "output_type": "display_data"
    }
   ],
   "source": [
    "Vdc = 400\n",
    "Vin_rms = 220 \n",
    "Lf = 2.5e-3\n",
    "Cdc = 1000e-6\n",
    "\n",
    "s = ctrl.tf([1, 0], [1])\n",
    "\n",
    "Gid = - Vdc / (2* Lf * s); print(Gid)\n",
    "\n",
    "%matplotlib inline\n",
    "mag, phase, omega = ctrl.bode(Gid, dB=True, omega_limits=(1, 1e5), omega_num=10000, margins=True, Hz=True)"
   ]
  },
  {
   "cell_type": "code",
   "execution_count": 26,
   "metadata": {},
   "outputs": [
    {
     "name": "stdout",
     "output_type": "stream",
     "text": [
      "\n",
      "0.3889\n",
      "-------\n",
      "0.001 s\n",
      "\n"
     ]
    },
    {
     "data": {
      "image/png": "[encoded data removed]",
      "text/plain": [
       "<Figure size 432x288 with 2 Axes>"
      ]
     },
     "metadata": {
      "needs_background": "light"
     },
     "output_type": "display_data"
    }
   ],
   "source": [
    "Gvi = np.sqrt(2) * Vin_rms /(2 * Vdc) * 1 / (s * Cdc); print(Gvi)\n",
    "\n",
    "%matplotlib inline\n",
    "mag, phase, omega = ctrl.bode(Gvi, dB=True, omega_limits=(1, 1e5), omega_num=10000, margins=True, Hz=True)"
   ]
  },
  {
   "cell_type": "code",
   "execution_count": null,
   "metadata": {},
   "outputs": [],
   "source": []
  },
  {
   "cell_type": "code",
   "execution_count": null,
   "metadata": {},
   "outputs": [],
   "source": []
  },
  {
   "cell_type": "code",
   "execution_count": null,
   "metadata": {},
   "outputs": [],
   "source": []
  },
  {
   "cell_type": "code",
   "execution_count": null,
   "metadata": {},
   "outputs": [],
   "source": []
  }
 ],
 "metadata": {
  "kernelspec": {
   "display_name": "Python 3",
   "language": "python",
   "name": "python3"
  },
  "language_info": {
   "codemirror_mode": {
    "name": "ipython",
    "version": 3
   },
   "file_extension": ".py",
   "mimetype": "text/x-python",
   "name": "python",
   "nbconvert_exporter": "python",
   "pygments_lexer": "ipython3",
   "version": "3.7.5"
  }
 },
 "nbformat": 4,
 "nbformat_minor": 2
}
