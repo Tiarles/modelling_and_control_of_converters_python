{
 "cells": [
  {
   "cell_type": "code",
   "execution_count": 1,
   "metadata": {},
   "outputs": [],
   "source": [
    "import pandas as pd"
   ]
  },
  {
   "cell_type": "code",
   "execution_count": 5,
   "metadata": {},
   "outputs": [
    {
     "data": {
      "text/html": [
       "<div>\n",
       "<style scoped>\n",
       "    .dataframe tbody tr th:only-of-type {\n",
       "        vertical-align: middle;\n",
       "    }\n",
       "\n",
       "    .dataframe tbody tr th {\n",
       "        vertical-align: top;\n",
       "    }\n",
       "\n",
       "    .dataframe thead th {\n",
       "        text-align: right;\n",
       "    }\n",
       "</style>\n",
       "<table border=\"1\" class=\"dataframe\">\n",
       "  <thead>\n",
       "    <tr style=\"text-align: right;\">\n",
       "      <th></th>\n",
       "      <th>I(L1)</th>\n",
       "      <th>Vout</th>\n",
       "    </tr>\n",
       "    <tr>\n",
       "      <th>Time</th>\n",
       "      <th></th>\n",
       "      <th></th>\n",
       "    </tr>\n",
       "  </thead>\n",
       "  <tbody>\n",
       "    <tr>\n",
       "      <td>0.000001</td>\n",
       "      <td>-0.095996</td>\n",
       "      <td>0.003265</td>\n",
       "    </tr>\n",
       "    <tr>\n",
       "      <td>0.000002</td>\n",
       "      <td>-0.191978</td>\n",
       "      <td>0.010868</td>\n",
       "    </tr>\n",
       "    <tr>\n",
       "      <td>0.000003</td>\n",
       "      <td>-0.287946</td>\n",
       "      <td>0.021713</td>\n",
       "    </tr>\n",
       "    <tr>\n",
       "      <td>0.000004</td>\n",
       "      <td>-0.383887</td>\n",
       "      <td>0.036871</td>\n",
       "    </tr>\n",
       "    <tr>\n",
       "      <td>0.000005</td>\n",
       "      <td>-0.479794</td>\n",
       "      <td>0.056324</td>\n",
       "    </tr>\n",
       "    <tr>\n",
       "      <td>...</td>\n",
       "      <td>...</td>\n",
       "      <td>...</td>\n",
       "    </tr>\n",
       "    <tr>\n",
       "      <td>0.049996</td>\n",
       "      <td>-3.507640</td>\n",
       "      <td>29.489900</td>\n",
       "    </tr>\n",
       "    <tr>\n",
       "      <td>0.049997</td>\n",
       "      <td>-3.411640</td>\n",
       "      <td>29.378400</td>\n",
       "    </tr>\n",
       "    <tr>\n",
       "      <td>0.049998</td>\n",
       "      <td>-3.315640</td>\n",
       "      <td>29.267400</td>\n",
       "    </tr>\n",
       "    <tr>\n",
       "      <td>0.049999</td>\n",
       "      <td>-3.219640</td>\n",
       "      <td>29.156700</td>\n",
       "    </tr>\n",
       "    <tr>\n",
       "      <td>0.050000</td>\n",
       "      <td>-3.123640</td>\n",
       "      <td>29.046500</td>\n",
       "    </tr>\n",
       "  </tbody>\n",
       "</table>\n",
       "<p>50000 rows × 2 columns</p>\n",
       "</div>"
      ],
      "text/plain": [
       "             I(L1)       Vout\n",
       "Time                         \n",
       "0.000001 -0.095996   0.003265\n",
       "0.000002 -0.191978   0.010868\n",
       "0.000003 -0.287946   0.021713\n",
       "0.000004 -0.383887   0.036871\n",
       "0.000005 -0.479794   0.056324\n",
       "...            ...        ...\n",
       "0.049996 -3.507640  29.489900\n",
       "0.049997 -3.411640  29.378400\n",
       "0.049998 -3.315640  29.267400\n",
       "0.049999 -3.219640  29.156700\n",
       "0.050000 -3.123640  29.046500\n",
       "\n",
       "[50000 rows x 2 columns]"
      ]
     },
     "execution_count": 5,
     "metadata": {},
     "output_type": "execute_result"
    }
   ],
   "source": [
    "df = pd.read_csv('ex_prova_1_tf.csv')\n",
    "df = df.set_index('Time')\n",
    "\n",
    "t_step = 1e-6\n",
    "t_final = .05\n",
    "\n",
    "df"
   ]
  },
  {
   "cell_type": "code",
   "execution_count": 6,
   "metadata": {},
   "outputs": [],
   "source": [
    "iL = df['I(L1)']\n",
    "Vout = df['Vout']"
   ]
  },
  {
   "cell_type": "code",
   "execution_count": 9,
   "metadata": {},
   "outputs": [
    {
     "data": {
      "image/png": "[encoded data removed]",
      "text/plain": [
       "<Figure size 1080x360 with 2 Axes>"
      ]
     },
     "metadata": {
      "needs_background": "light"
     },
     "output_type": "display_data"
    }
   ],
   "source": [
    "import matplotlib.pyplot as plt\n",
    "# import mpld3\n",
    "# mpld3.enable_notebook()\n",
    "\n",
    "plt.figure(figsize=(15, 5))\n",
    "plt.subplot(211)\n",
    "plt.plot(iL, label='$i_L$')\n",
    "plt.legend()\n",
    "plt.grid()\n",
    "plt.subplot(212)\n",
    "plt.plot(Vout, label='$V_{out}$')\n",
    "plt.legend()\n",
    "plt.grid()\n",
    "plt.show()"
   ]
  },
  {
   "cell_type": "code",
   "execution_count": 10,
   "metadata": {},
   "outputs": [],
   "source": [
    "import numpy as np\n",
    "import numpy.linalg as lin"
   ]
  },
  {
   "cell_type": "code",
   "execution_count": 11,
   "metadata": {},
   "outputs": [],
   "source": [
    "L = 500e-6\n",
    "Cap = 22e-6\n",
    "R = 12\n",
    "Vin = 48\n",
    "D = 0.7"
   ]
  },
  {
   "cell_type": "code",
   "execution_count": 12,
   "metadata": {},
   "outputs": [],
   "source": [
    "K = np.array([[L,   0], \n",
    "              [0, Cap]])"
   ]
  },
  {
   "cell_type": "markdown",
   "metadata": {},
   "source": [
    "1ª Etapa do conversor"
   ]
  },
  {
   "cell_type": "code",
   "execution_count": 34,
   "metadata": {},
   "outputs": [],
   "source": [
    "A1 = np.array([[0  ,1],\n",
    "               [-1, -1/R]])\n",
    "B1 = np.array([-1, 0])\n",
    "C1 = np.array([[1, 0], [0, 1]])\n",
    "E1 = np.array([0, 0])"
   ]
  },
  {
   "cell_type": "markdown",
   "metadata": {},
   "source": [
    "2ª Etapa do conversor"
   ]
  },
  {
   "cell_type": "code",
   "execution_count": 35,
   "metadata": {},
   "outputs": [],
   "source": [
    "A2 = np.array([[0,    0],\n",
    "               [0, -1/R]])\n",
    "B2 = np.array([1, 0])\n",
    "C2 = np.array([[1, 0], [0, 1]])\n",
    "E2 = np.array([0, 0])"
   ]
  },
  {
   "cell_type": "markdown",
   "metadata": {},
   "source": [
    "Matrizes médias"
   ]
  },
  {
   "cell_type": "code",
   "execution_count": 36,
   "metadata": {},
   "outputs": [],
   "source": [
    "A = D*A1 + (1-D)*A2;\n",
    "B = D*B1 + (1-D)*B2;\n",
    "C = D*C1 + (1-D)*C2;\n",
    "E = D*E1 + (1-D)*E2;"
   ]
  },
  {
   "cell_type": "markdown",
   "metadata": {},
   "source": [
    "Valores em regime permanente"
   ]
  },
  {
   "cell_type": "code",
   "execution_count": 37,
   "metadata": {},
   "outputs": [],
   "source": [
    "U = Vin\n",
    "X = np.dot(np.dot(-lin.inv(A), B), U)\n",
    "Y = np.dot((np.dot(np.dot(-C, lin.inv(A)), B)+E), U)"
   ]
  },
  {
   "cell_type": "markdown",
   "metadata": {},
   "source": [
    "Matrizes padrão para representação do modelo CA em espaço de estados"
   ]
  },
  {
   "cell_type": "code",
   "execution_count": 38,
   "metadata": {},
   "outputs": [
    {
     "name": "stdout",
     "output_type": "stream",
     "text": [
      "[[     0.           1400.        ]\n",
      " [-31818.18181818  -3787.87878788]]\n"
     ]
    }
   ],
   "source": [
    "Ap = np.dot(lin.inv(K),A)\n",
    "print(Ap)"
   ]
  },
  {
   "cell_type": "code",
   "execution_count": 39,
   "metadata": {},
   "outputs": [
    {
     "name": "stdout",
     "output_type": "stream",
     "text": [
      "[[   -800.         -137142.85714286]\n",
      " [      0.          148423.00556586]]\n"
     ]
    }
   ],
   "source": [
    "Bp = np.array([np.dot(lin.inv(K), B), \n",
    "               np.dot(lin.inv(K), (np.dot((A1-A2),X) + np.dot((B1-B2), U)))]).transpose()\n",
    "print(Bp)"
   ]
  },
  {
   "cell_type": "code",
   "execution_count": 40,
   "metadata": {},
   "outputs": [
    {
     "name": "stdout",
     "output_type": "stream",
     "text": [
      "[[1. 0.]\n",
      " [0. 1.]]\n"
     ]
    }
   ],
   "source": [
    "Cp = C\n",
    "print(Cp)"
   ]
  },
  {
   "cell_type": "code",
   "execution_count": 41,
   "metadata": {},
   "outputs": [
    {
     "name": "stdout",
     "output_type": "stream",
     "text": [
      "[[0. 0.]\n",
      " [0. 0.]]\n"
     ]
    }
   ],
   "source": [
    "Ep = np.array([E, np.dot((C1-C2),X) + np.dot((E1-E2),U)]).transpose()\n",
    "print(Ep)"
   ]
  },
  {
   "cell_type": "code",
   "execution_count": 42,
   "metadata": {},
   "outputs": [],
   "source": [
    "import control as ctrl\n",
    "import scipy.signal as sig"
   ]
  },
  {
   "cell_type": "code",
   "execution_count": 43,
   "metadata": {},
   "outputs": [],
   "source": [
    "# Aq, Bq, Cq, Eq = -4., 2., 1., 0."
   ]
  },
  {
   "cell_type": "code",
   "execution_count": 44,
   "metadata": {},
   "outputs": [
    {
     "name": "stdout",
     "output_type": "stream",
     "text": [
      "(2, 2) (2, 2) (2, 2) (2, 2)\n"
     ]
    }
   ],
   "source": [
    "import scipy\n",
    "ss_buckboost = sig.StateSpace(Ap, Bp, Cp, Ep)\n",
    "# ss_buckboost = sig.StateSpace(Aq, Bq, Cq, Eq); ss_buckboost\n",
    "print(Ap.shape, Bp.shape, Cp.shape, Ep.shape)"
   ]
  },
  {
   "cell_type": "code",
   "execution_count": 45,
   "metadata": {},
   "outputs": [],
   "source": [
    "def step(t, t_step, y_inital, y_final, verbatim=False):\n",
    "    ret = np.ones(t.size)\n",
    "    \n",
    "    yt_initial = t < t_step\n",
    "    ret[yt_initial] = y_inital\n",
    "    \n",
    "    yt_final = t >= t_step\n",
    "    ret[yt_final] = y_final\n",
    "    \n",
    "    import matplotlib.pyplot as plt\n",
    "    \n",
    "    if verbatim:\n",
    "        plt.plot(t, ret)\n",
    "        plt.show()\n",
    "\n",
    "    return ret"
   ]
  },
  {
   "cell_type": "code",
   "execution_count": 46,
   "metadata": {},
   "outputs": [],
   "source": [
    "t_in = np.arange(0, t_final, t_step)\n",
    "\n",
    "u = step(t_in, .03, 0, 0)\n",
    "d = step(t_in, .03, 0, .02)\n",
    "\n",
    "up = np.array([u, d]).transpose()"
   ]
  },
  {
   "cell_type": "code",
   "execution_count": 47,
   "metadata": {},
   "outputs": [],
   "source": [
    "# t, y1, y2 = sig.dlsim(ss_buckboost, up)\n",
    "\n",
    "# iL_ss   = y1[:,0] + Y[0]\n",
    "# Vout_ss = y1[:,1] + Y[1]\n",
    "\n",
    "# if np.sum(y1 == y2) != 0:\n",
    "#     print('y1 is diffrent to y2: %d de %d' % (np.sum(y1 == y2), y1.size))\n",
    "    \n",
    "# import matplotlib.pyplot as plt\n",
    "\n",
    "# plt.figure(figsize=(15, 5))\n",
    "# plt.subplot(211)\n",
    "# plt.plot(t, iL_ss, 'o', label='$i_{L, ss}$')\n",
    "# plt.legend()\n",
    "# plt.grid()\n",
    "# plt.subplot(212)\n",
    "# plt.plot(t, Vout_ss, label='$V_{out, ss}$')\n",
    "# plt.legend()\n",
    "# # plt.tight_layout()\n",
    "# plt.grid()"
   ]
  },
  {
   "cell_type": "code",
   "execution_count": 48,
   "metadata": {},
   "outputs": [
    {
     "name": "stdout",
     "output_type": "stream",
     "text": [
      "y1 is diffrent to y2: 100002 de 100002\n"
     ]
    },
    {
     "data": {
      "image/png": "[encoded data removed]",
      "text/plain": [
       "<Figure size 1080x360 with 2 Axes>"
      ]
     },
     "metadata": {
      "needs_background": "light"
     },
     "output_type": "display_data"
    }
   ],
   "source": [
    "t_in = np.arange(0, t_final, t_step)\n",
    "\n",
    "u = step(t_in, .03, 0, 0)\n",
    "d = step(t_in, .03, 0, .02)\n",
    "\n",
    "up = np.array([u, d]).transpose()\n",
    "\n",
    "t, y1, y2 = sig.lsim(ss_buckboost, up, T=t_in)\n",
    "\n",
    "iL_ss   = y1[:,0] + Y[0]\n",
    "Vout_ss = y1[:,1] + Y[1]\n",
    "\n",
    "if np.sum(y1 == y2) != 0:\n",
    "    print('y1 is diffrent to y2: %d de %d' % (np.sum(y1 == y2), y1.size))\n",
    "    \n",
    "import matplotlib.pyplot as plt\n",
    "\n",
    "plt.figure(figsize=(15, 5))\n",
    "plt.subplot(211)\n",
    "plt.plot(t, iL_ss, 'o', label='$i_{L, ss}$')\n",
    "plt.legend()\n",
    "plt.grid()\n",
    "plt.subplot(212)\n",
    "plt.plot(t, Vout_ss, label='$V_{out, ss}$')\n",
    "plt.legend()\n",
    "# plt.tight_layout()\n",
    "plt.grid()"
   ]
  },
  {
   "cell_type": "code",
   "execution_count": 49,
   "metadata": {},
   "outputs": [
    {
     "data": {
      "image/png": "[encoded data removed]",
      "text/plain": [
       "<Figure size 1080x360 with 2 Axes>"
      ]
     },
     "metadata": {
      "needs_background": "light"
     },
     "output_type": "display_data"
    }
   ],
   "source": [
    "plt.figure(figsize=(15, 5))\n",
    "plt.subplot(211)\n",
    "plt.plot(df.index, iL, label='$i_L$')\n",
    "plt.plot(t, iL_ss, label='$i_{L, ss}$')\n",
    "# plt.ylim(-5, 25)\n",
    "plt.legend()\n",
    "plt.grid()\n",
    "plt.subplot(212)\n",
    "plt.plot(df.index, Vout, label='$V_{out}$')\n",
    "plt.plot(t, Vout_ss, label='$V_{out, ss}$')\n",
    "# plt.ylim(-45, -5)\n",
    "plt.legend()\n",
    "plt.tight_layout()\n",
    "plt.grid()"
   ]
  },
  {
   "cell_type": "code",
   "execution_count": 50,
   "metadata": {},
   "outputs": [
    {
     "data": {
      "text/plain": [
       "-3.2653061224489788"
      ]
     },
     "execution_count": 50,
     "metadata": {},
     "output_type": "execute_result"
    }
   ],
   "source": [
    "iL_ss[10]"
   ]
  },
  {
   "cell_type": "code",
   "execution_count": 51,
   "metadata": {},
   "outputs": [
    {
     "name": "stderr",
     "output_type": "stream",
     "text": [
      "c:\\users\\tiarl\\appdata\\local\\programs\\python\\python37-32\\lib\\site-packages\\scipy\\signal\\filter_design.py:1619: BadCoefficients: Badly conditioned filter coefficients (numerator): the results may be meaningless\n",
      "  \"results may be meaningless\", BadCoefficients)\n"
     ]
    },
    {
     "data": {
      "text/plain": [
       "TransferFunctionContinuous(\n",
       "array([[-8.00000000e+02, -3.03030303e+06],\n",
       "       [-4.54747351e-13,  2.54545455e+07]]),\n",
       "array([1.00000000e+00, 3.78787879e+03, 4.45454545e+07]),\n",
       "dt: None\n",
       ")"
      ]
     },
     "execution_count": 51,
     "metadata": {},
     "output_type": "execute_result"
    }
   ],
   "source": [
    "ss_buckboost.to_tf()"
   ]
  },
  {
   "cell_type": "code",
   "execution_count": 52,
   "metadata": {},
   "outputs": [],
   "source": [
    "from scipy.signal import ss2tf\n",
    "from control import tf"
   ]
  },
  {
   "cell_type": "code",
   "execution_count": 53,
   "metadata": {},
   "outputs": [],
   "source": [
    "(num, den) = ss2tf(Ap,Bp,Cp,Ep,0)\n",
    "\n",
    "n_of_decimals = 6\n",
    "num = np.around(num, n_of_decimals)\n",
    "den = np.around(den, n_of_decimals)\n",
    "\n",
    "Gi_vg = tf(num[0], den)\n",
    "Gv_vg = tf(num[1], den)"
   ]
  },
  {
   "cell_type": "code",
   "execution_count": 54,
   "metadata": {},
   "outputs": [
    {
     "name": "stdout",
     "output_type": "stream",
     "text": [
      "\n",
      "    -800 s - 3.03e+06\n",
      "------------------------\n",
      "s^2 + 3788 s + 4.455e+07\n",
      "\n"
     ]
    }
   ],
   "source": [
    "print(Gi_vg)"
   ]
  },
  {
   "cell_type": "code",
   "execution_count": 55,
   "metadata": {},
   "outputs": [
    {
     "name": "stdout",
     "output_type": "stream",
     "text": [
      "\n",
      "        2.545e+07\n",
      "------------------------\n",
      "s^2 + 3788 s + 4.455e+07\n",
      "\n"
     ]
    }
   ],
   "source": [
    "print(Gv_vg)"
   ]
  },
  {
   "cell_type": "code",
   "execution_count": null,
   "metadata": {},
   "outputs": [],
   "source": []
  },
  {
   "cell_type": "code",
   "execution_count": 56,
   "metadata": {},
   "outputs": [],
   "source": [
    "(num, den) = ss2tf(Ap,Bp,Cp,Ep,1)\n",
    "\n",
    "num = np.around(num, n_of_decimals)\n",
    "den = np.around(den, n_of_decimals)\n",
    "\n",
    "Gi_vg = tf(num[0], den)\n",
    "Gv_vg = tf(num[1], den)"
   ]
  },
  {
   "cell_type": "code",
   "execution_count": 57,
   "metadata": {},
   "outputs": [
    {
     "name": "stdout",
     "output_type": "stream",
     "text": [
      "\n",
      "-1.371e+05 s - 3.117e+08\n",
      "------------------------\n",
      "s^2 + 3788 s + 4.455e+07\n",
      "\n"
     ]
    }
   ],
   "source": [
    "print(Gi_vg)"
   ]
  },
  {
   "cell_type": "code",
   "execution_count": 58,
   "metadata": {},
   "outputs": [
    {
     "name": "stdout",
     "output_type": "stream",
     "text": [
      "\n",
      "1.484e+05 s + 4.364e+09\n",
      "------------------------\n",
      "s^2 + 3788 s + 4.455e+07\n",
      "\n"
     ]
    }
   ],
   "source": [
    "print(Gv_vg)"
   ]
  },
  {
   "cell_type": "code",
   "execution_count": null,
   "metadata": {},
   "outputs": [],
   "source": []
  },
  {
   "cell_type": "code",
   "execution_count": null,
   "metadata": {},
   "outputs": [],
   "source": []
  },
  {
   "cell_type": "code",
   "execution_count": null,
   "metadata": {},
   "outputs": [],
   "source": []
  },
  {
   "cell_type": "code",
   "execution_count": null,
   "metadata": {},
   "outputs": [],
   "source": []
  }
 ],
 "metadata": {
  "kernelspec": {
   "display_name": "Python 3",
   "language": "python",
   "name": "python3"
  },
  "language_info": {
   "codemirror_mode": {
    "name": "ipython",
    "version": 3
   },
   "file_extension": ".py",
   "mimetype": "text/x-python",
   "name": "python",
   "nbconvert_exporter": "python",
   "pygments_lexer": "ipython3",
   "version": "3.7.4"
  }
 },
 "nbformat": 4,
 "nbformat_minor": 2
}
