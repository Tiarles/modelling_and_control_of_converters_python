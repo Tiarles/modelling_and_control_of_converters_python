{
 "cells": [
  {
   "cell_type": "markdown",
   "metadata": {},
   "source": [
    "# Prova 1 (2°/2019)\n",
    "## DPEE805 - Modelagem e Controle de Conversores\n",
    "### Prof° Cassiano Rech | Acadêmico: Tiarles da Rocha Moralles Guterres\n",
    "\n",
    "#### Informações gerais sobre este arquivo:\n",
    "Este arquivo é um formato impresso de um ambiente em Python chamado Jupyter-notebook. Com o Jupyter-notebook você pode escrever código e documentá-lo simultaneamente, intercalando no que chamamos de células de código, em Python, e células de texto. Apesar de utilizar o navegador e o formato ``.html`` este software possui **nenhuma conexão com a internet**.\n",
    "\n",
    "#### Um pouco sobre sintaxe:\n",
    "Python, diferente de MATLAB, não existe um direcionamento específico para cálculos matriciais e modelagem. Porém, utilizando alguns repositórios (também chamados de módulos) podemos realizar quase todos os procedimentos feitos em MATLAB de forma bem simples. Python e seus pacotes são *open source*.\n",
    "\n",
    "Os módulos utilizados neste notebook e importados na célula abaixo são:\n",
    "* **pandas**: Para a leitura de arquivos ``.csv``.\n",
    "* **matplotlib.pyplot**: Para a geração de figuras a partir de vetores.\n",
    "* **numpy**: É a biblioteca numérica de Python, onde estão implementadas as estruturas e operações com vetores/matrizes.\n",
    "* **scipy.signal**: Biblioteca para análise e reposta de sinais em vários domínios."
   ]
  },
  {
   "cell_type": "code",
   "execution_count": 1,
   "metadata": {},
   "outputs": [],
   "source": [
    "sim_name = '20_Vg'\n",
    "\n",
    "t_step = 1e-6\n",
    "t_final = .05\n",
    "\n",
    "d_f = 0\n",
    "v_f = 70."
   ]
  },
  {
   "cell_type": "code",
   "execution_count": 2,
   "metadata": {},
   "outputs": [],
   "source": [
    "from pandas import read_csv\n",
    "from matplotlib.pyplot import figure, plot, subplot, grid, legend, show, savefig\n",
    "from numpy import array, identity, zeros, dot, ones, arange\n",
    "from numpy.linalg import inv\n",
    "from scipy.signal import StateSpace, lsim"
   ]
  },
  {
   "cell_type": "markdown",
   "metadata": {},
   "source": [
    "<a id='step_function'></a>\n",
    "\n",
    "Abaixo a função para simular o bloco de *step* do Simulink é declarada:"
   ]
  },
  {
   "cell_type": "code",
   "execution_count": 3,
   "metadata": {},
   "outputs": [],
   "source": [
    "def step(t, t_step, y_inital, y_final, nome):\n",
    "    ret = ones(t.size)\n",
    "    \n",
    "    yt_initial = t < t_step\n",
    "    ret[yt_initial] = y_inital\n",
    "    \n",
    "    yt_final = t >= t_step\n",
    "    ret[yt_final] = y_final\n",
    "    \n",
    "    figure(figsize=(5,1))\n",
    "    plot(t, ret, label=nome)\n",
    "    legend()\n",
    "    show()\n",
    "\n",
    "    return ret"
   ]
  },
  {
   "cell_type": "markdown",
   "metadata": {},
   "source": [
    "Na célula abaixo, o arquivo com as ondas do PSIM é importado, algumas configurações são realizadas e é possível ver as primeiras e últimas amostras do arquivo:"
   ]
  },
  {
   "cell_type": "code",
   "execution_count": 4,
   "metadata": {},
   "outputs": [
    {
     "data": {
      "text/html": [
       "<div>\n",
       "<style scoped>\n",
       "    .dataframe tbody tr th:only-of-type {\n",
       "        vertical-align: middle;\n",
       "    }\n",
       "\n",
       "    .dataframe tbody tr th {\n",
       "        vertical-align: top;\n",
       "    }\n",
       "\n",
       "    .dataframe thead th {\n",
       "        text-align: right;\n",
       "    }\n",
       "</style>\n",
       "<table border=\"1\" class=\"dataframe\">\n",
       "  <thead>\n",
       "    <tr style=\"text-align: right;\">\n",
       "      <th></th>\n",
       "      <th>I</th>\n",
       "      <th>V</th>\n",
       "      <th>Vref</th>\n",
       "    </tr>\n",
       "    <tr>\n",
       "      <th>Time</th>\n",
       "      <th></th>\n",
       "      <th></th>\n",
       "      <th></th>\n",
       "    </tr>\n",
       "  </thead>\n",
       "  <tbody>\n",
       "    <tr>\n",
       "      <td>0.000001</td>\n",
       "      <td>0.03500</td>\n",
       "      <td>-2.910640e-08</td>\n",
       "      <td>18.75</td>\n",
       "    </tr>\n",
       "    <tr>\n",
       "      <td>0.000002</td>\n",
       "      <td>0.07000</td>\n",
       "      <td>-5.812680e-08</td>\n",
       "      <td>18.75</td>\n",
       "    </tr>\n",
       "    <tr>\n",
       "      <td>0.000003</td>\n",
       "      <td>0.10500</td>\n",
       "      <td>-8.708270e-08</td>\n",
       "      <td>18.75</td>\n",
       "    </tr>\n",
       "    <tr>\n",
       "      <td>0.000004</td>\n",
       "      <td>0.14000</td>\n",
       "      <td>-1.159530e-07</td>\n",
       "      <td>18.75</td>\n",
       "    </tr>\n",
       "    <tr>\n",
       "      <td>0.000005</td>\n",
       "      <td>0.17500</td>\n",
       "      <td>-1.447380e-07</td>\n",
       "      <td>18.75</td>\n",
       "    </tr>\n",
       "    <tr>\n",
       "      <td>...</td>\n",
       "      <td>...</td>\n",
       "      <td>...</td>\n",
       "      <td>...</td>\n",
       "    </tr>\n",
       "    <tr>\n",
       "      <td>0.049996</td>\n",
       "      <td>2.08911</td>\n",
       "      <td>2.471050e+01</td>\n",
       "      <td>18.75</td>\n",
       "    </tr>\n",
       "    <tr>\n",
       "      <td>0.049997</td>\n",
       "      <td>2.06933</td>\n",
       "      <td>2.474810e+01</td>\n",
       "      <td>18.75</td>\n",
       "    </tr>\n",
       "    <tr>\n",
       "      <td>0.049998</td>\n",
       "      <td>2.04952</td>\n",
       "      <td>2.478460e+01</td>\n",
       "      <td>18.75</td>\n",
       "    </tr>\n",
       "    <tr>\n",
       "      <td>0.049999</td>\n",
       "      <td>2.02968</td>\n",
       "      <td>2.481990e+01</td>\n",
       "      <td>18.75</td>\n",
       "    </tr>\n",
       "    <tr>\n",
       "      <td>0.050000</td>\n",
       "      <td>2.00981</td>\n",
       "      <td>2.485400e+01</td>\n",
       "      <td>18.75</td>\n",
       "    </tr>\n",
       "  </tbody>\n",
       "</table>\n",
       "<p>50000 rows × 3 columns</p>\n",
       "</div>"
      ],
      "text/plain": [
       "                I             V   Vref\n",
       "Time                                  \n",
       "0.000001  0.03500 -2.910640e-08  18.75\n",
       "0.000002  0.07000 -5.812680e-08  18.75\n",
       "0.000003  0.10500 -8.708270e-08  18.75\n",
       "0.000004  0.14000 -1.159530e-07  18.75\n",
       "0.000005  0.17500 -1.447380e-07  18.75\n",
       "...           ...           ...    ...\n",
       "0.049996  2.08911  2.471050e+01  18.75\n",
       "0.049997  2.06933  2.474810e+01  18.75\n",
       "0.049998  2.04952  2.478460e+01  18.75\n",
       "0.049999  2.02968  2.481990e+01  18.75\n",
       "0.050000  2.00981  2.485400e+01  18.75\n",
       "\n",
       "[50000 rows x 3 columns]"
      ]
     },
     "execution_count": 4,
     "metadata": {},
     "output_type": "execute_result"
    }
   ],
   "source": [
    "df = read_csv('PSIM_waves.csv') # Aqui ocorre a importação do arquivo .csv\n",
    "\n",
    "# E aqui a coluna que mostra o tempo instantâneo de cada amostra é setado como o indíce desta tabela\n",
    "df = df.set_index('Time')\n",
    "\n",
    "df"
   ]
  },
  {
   "cell_type": "markdown",
   "metadata": {},
   "source": [
    "Abaixo cada uma das colunas de interesse são inseridas em variáveis diferentes para, mais tarde, compararmos com o modelo matemático calculado em espaço de estados:"
   ]
  },
  {
   "cell_type": "code",
   "execution_count": 5,
   "metadata": {},
   "outputs": [],
   "source": [
    "iL = df['I']\n",
    "vC = df['V']"
   ]
  },
  {
   "cell_type": "markdown",
   "metadata": {},
   "source": [
    "E as correntes nos indutores e as tensões dos capacitores do **modelo físico** podem ser visualizados."
   ]
  },
  {
   "cell_type": "code",
   "execution_count": 6,
   "metadata": {},
   "outputs": [
    {
     "data": {
      "image/png": "[encoded data removed]",
      "text/plain": [
       "<Figure size 1080x360 with 2 Axes>"
      ]
     },
     "metadata": {
      "needs_background": "light"
     },
     "output_type": "display_data"
    }
   ],
   "source": [
    "figure(figsize=(15, 5))\n",
    "subplot(211)\n",
    "plot(iL, label='$i_{L}$')\n",
    "legend()\n",
    "grid()\n",
    "subplot(212)\n",
    "plot(vC, label='$V_{C}$')\n",
    "legend()\n",
    "grid()\n",
    "savefig('1_ondas_PSIM_'+sim_name+'.png')\n",
    "show()"
   ]
  },
  {
   "cell_type": "markdown",
   "metadata": {},
   "source": [
    "#### Modelagem no espaço de estados\n",
    "\n",
    "O tempo de simulação (``t_final``), a taxa de amostragem (``t_step``), os valores dos componentes (``L1``, ``L2``, ``Cap1``, ``Cap2`` e ``R``), a fonte de entrada (``Vin``), o *duty-cycle* (``D``), a pertubação de *duty-cycle* ($\\hat{d}$ = ``d_f``) e a pertubação na fonte de entrada ($\\hat{u}$ = ``v_f``) foram configurados abaixo:"
   ]
  },
  {
   "cell_type": "code",
   "execution_count": 7,
   "metadata": {},
   "outputs": [],
   "source": [
    "Lm = 10e-3\n",
    "Cf = 150e-6\n",
    "R = 2.25\n",
    "\n",
    "Vg = 350\n",
    "D = 0.3"
   ]
  },
  {
   "cell_type": "markdown",
   "metadata": {},
   "source": [
    "E, como no arquivo ``aula_buckboost.m`` as matrizes para a modelagem são montadas:"
   ]
  },
  {
   "cell_type": "code",
   "execution_count": 8,
   "metadata": {},
   "outputs": [],
   "source": [
    "K = array([[Lm,  0],\n",
    "            [0, Cf]])"
   ]
  },
  {
   "cell_type": "markdown",
   "metadata": {},
   "source": [
    "**Primeira** Etapa do conversor (**ON**)"
   ]
  },
  {
   "cell_type": "code",
   "execution_count": 9,
   "metadata": {},
   "outputs": [],
   "source": [
    "A1 = array([[0,  0],\n",
    "            [0,  -1/R]])\n",
    "B1 = array([1, 0])\n",
    "C1 = identity(2)\n",
    "E1 = zeros(2)"
   ]
  },
  {
   "cell_type": "markdown",
   "metadata": {},
   "source": [
    "**Segunda** Etapa do conversor (**OFF**)"
   ]
  },
  {
   "cell_type": "code",
   "execution_count": 10,
   "metadata": {},
   "outputs": [],
   "source": [
    "A2 = array([[0,   -8],\n",
    "            [8, -1/R]])\n",
    "B2 = array([0, 0])\n",
    "C2 = identity(2)\n",
    "E2 = zeros(2)"
   ]
  },
  {
   "cell_type": "markdown",
   "metadata": {},
   "source": [
    "As matrizes médias:"
   ]
  },
  {
   "cell_type": "code",
   "execution_count": 11,
   "metadata": {},
   "outputs": [],
   "source": [
    "A = D*A1 + (1-D)*A2;\n",
    "B = D*B1 + (1-D)*B2;\n",
    "C = D*C1 + (1-D)*C2;\n",
    "E = D*E1 + (1-D)*E2;"
   ]
  },
  {
   "cell_type": "markdown",
   "metadata": {},
   "source": [
    "Os valores em regime permanente. (Para a computação correta do produto escalar é utilizada a função ``dot``):"
   ]
  },
  {
   "cell_type": "code",
   "execution_count": 12,
   "metadata": {},
   "outputs": [],
   "source": [
    "U = Vg\n",
    "X = dot(dot(-inv(A), B), U)\n",
    "Y = dot((dot(dot(-C, inv(A)), B)+E), U)"
   ]
  },
  {
   "cell_type": "markdown",
   "metadata": {},
   "source": [
    "Matrizes padrão para representação do modelo CA em espaço de estados"
   ]
  },
  {
   "cell_type": "code",
   "execution_count": 13,
   "metadata": {},
   "outputs": [
    {
     "name": "stdout",
     "output_type": "stream",
     "text": [
      "[[    0.          -560.        ]\n",
      " [37333.33333333 -2962.96296296]]\n"
     ]
    }
   ],
   "source": [
    "Ap = dot(inv(K),A)\n",
    "print(Ap)"
   ]
  },
  {
   "cell_type": "markdown",
   "metadata": {},
   "source": [
    "Devido a sintaxe de Python as matrizes ``Bp`` e ``Ep``, que contém as componentes que multiplicam $\\hat{d}$ e $\\hat{u}$, necessitam ser transpostas:"
   ]
  },
  {
   "cell_type": "code",
   "execution_count": 14,
   "metadata": {},
   "outputs": [
    {
     "name": "stdout",
     "output_type": "stream",
     "text": [
      "[[ 3.00000000e+01  5.00000000e+04]\n",
      " [ 0.00000000e+00 -7.93650794e+04]]\n"
     ]
    }
   ],
   "source": [
    "Bp = array([dot(inv(K), B), \n",
    "            dot(inv(K), (dot((A1-A2),X) + dot((B1-B2), U)))]).transpose()\n",
    "print(Bp)"
   ]
  },
  {
   "cell_type": "code",
   "execution_count": 15,
   "metadata": {},
   "outputs": [
    {
     "name": "stdout",
     "output_type": "stream",
     "text": [
      "[[1. 0.]\n",
      " [0. 1.]]\n"
     ]
    }
   ],
   "source": [
    "Cp = C\n",
    "print(Cp)"
   ]
  },
  {
   "cell_type": "code",
   "execution_count": 16,
   "metadata": {},
   "outputs": [
    {
     "name": "stdout",
     "output_type": "stream",
     "text": [
      "[[0. 0.]\n",
      " [0. 0.]]\n"
     ]
    }
   ],
   "source": [
    "Ep = array([E, dot((C1-C2),X) + dot((E1-E2),U)]).transpose()\n",
    "print(Ep)"
   ]
  },
  {
   "cell_type": "markdown",
   "metadata": {},
   "source": [
    "Com as matrizes ``Ap``, ``Bp``, ``Cp``, ``Ep`` calculadas o modelo de espaço de estado é montado (a partir daqui o notebook assume o que o ``buckboost.mdl`` no Simulink faz)"
   ]
  },
  {
   "cell_type": "code",
   "execution_count": 17,
   "metadata": {},
   "outputs": [],
   "source": [
    "ss_buckboost = StateSpace(Ap, Bp, Cp, Ep)"
   ]
  },
  {
   "cell_type": "markdown",
   "metadata": {},
   "source": [
    "Um sinal de tempo (``t_in``) e os steps de entrada (``u`` e ``d``) são gerados utilizando a função [step](#step_function) criada."
   ]
  },
  {
   "cell_type": "code",
   "execution_count": 18,
   "metadata": {},
   "outputs": [
    {
     "data": {
      "image/png": "[encoded data removed]",
      "text/plain": [
       "<Figure size 360x72 with 1 Axes>"
      ]
     },
     "metadata": {
      "needs_background": "light"
     },
     "output_type": "display_data"
    },
    {
     "data": {
      "image/png": "[encoded data removed]",
      "text/plain": [
       "<Figure size 360x72 with 1 Axes>"
      ]
     },
     "metadata": {
      "needs_background": "light"
     },
     "output_type": "display_data"
    }
   ],
   "source": [
    "t_in = arange(0, t_final, t_step)\n",
    "\n",
    "u = step(t_in, .03, 0, v_f, '$\\hat{u}$')\n",
    "d = step(t_in, .03, 0, d_f, '$\\hat{d}$')\n",
    "\n",
    "up = array([u, d]).transpose()"
   ]
  },
  {
   "cell_type": "markdown",
   "metadata": {},
   "source": [
    "Nesse momento, com as entradas definidas e o modelo pronto podemos evolui-lo no espaço de estados utilizando a função ``lsim``:"
   ]
  },
  {
   "cell_type": "code",
   "execution_count": 19,
   "metadata": {},
   "outputs": [],
   "source": [
    "t, y1, _ = lsim(ss_buckboost, up, T=t_in)"
   ]
  },
  {
   "cell_type": "markdown",
   "metadata": {},
   "source": [
    "E a resposta do modelo pertubado é somado com a saída ``Y``:"
   ]
  },
  {
   "cell_type": "code",
   "execution_count": 20,
   "metadata": {},
   "outputs": [],
   "source": [
    "iL_ss = y1[:,0] + Y[0]\n",
    "vC_ss = y1[:,1] + Y[1]"
   ]
  },
  {
   "cell_type": "markdown",
   "metadata": {},
   "source": [
    "A figura abaixo mostra o modelo obtido para as medidas de interesse:"
   ]
  },
  {
   "cell_type": "code",
   "execution_count": 21,
   "metadata": {},
   "outputs": [
    {
     "data": {
      "image/png": "[encoded data removed]",
      "text/plain": [
       "<Figure size 1080x360 with 2 Axes>"
      ]
     },
     "metadata": {
      "needs_background": "light"
     },
     "output_type": "display_data"
    }
   ],
   "source": [
    "figure(figsize=(15, 5))\n",
    "\n",
    "subplot(211)\n",
    "plot(t, iL_ss, 'o', label='$i_{L, ss}$')\n",
    "legend()\n",
    "grid()\n",
    "\n",
    "subplot(212)\n",
    "plot(t, vC_ss, label='$V_{C, ss}$')\n",
    "legend()\n",
    "grid()\n",
    "savefig('2_ondas_Matematico_'+sim_name+'.png')\n",
    "show()"
   ]
  },
  {
   "cell_type": "markdown",
   "metadata": {},
   "source": [
    "E por fim, o modelo de espaço de estados é comparado com o modelo físico:"
   ]
  },
  {
   "cell_type": "code",
   "execution_count": 22,
   "metadata": {},
   "outputs": [
    {
     "data": {
      "image/png": "[encoded data removed]",
      "text/plain": [
       "<Figure size 1080x720 with 2 Axes>"
      ]
     },
     "metadata": {
      "needs_background": "light"
     },
     "output_type": "display_data"
    }
   ],
   "source": [
    "figure(figsize=(15, 10))\n",
    "\n",
    "subplot(211)\n",
    "plot(df.index, iL, label='$i_{L}$')\n",
    "plot(t, iL_ss, label='$i_{L, ss}$')\n",
    "legend()\n",
    "grid()\n",
    "\n",
    "subplot(212)\n",
    "plot(df.index, vC, label='$v_{C}$')\n",
    "plot(t, vC_ss, label='$v_{C, ss}$')\n",
    "legend()\n",
    "grid()\n",
    "\n",
    "savefig('3_comparacao_modelos_'+sim_name+'.png')\n",
    "\n",
    "show()"
   ]
  },
  {
   "cell_type": "markdown",
   "metadata": {},
   "source": [
    "## Geração da Função de Transferência\n",
    "\n",
    "Devido algumas diferenças toleráveis na computação de valores muito grandes os arrays com numeradores e o denominadores gerados foram **arredondados para 6 casas decimais**. Isto deixa mais clara a representação da função de transferência."
   ]
  },
  {
   "cell_type": "code",
   "execution_count": 23,
   "metadata": {},
   "outputs": [],
   "source": [
    "from scipy.signal import ss2tf\n",
    "from control import tf\n",
    "from numpy import around"
   ]
  },
  {
   "cell_type": "code",
   "execution_count": 24,
   "metadata": {},
   "outputs": [],
   "source": [
    "(num, den) = ss2tf(Ap,Bp,Cp,Ep,0)\n",
    "\n",
    "n_of_decimals = 6\n",
    "num = around(num, n_of_decimals)\n",
    "den = around(den, n_of_decimals)\n",
    "\n",
    "Gi_vg = tf(num[0], den)\n",
    "Gv_vg = tf(num[1], den)"
   ]
  },
  {
   "cell_type": "code",
   "execution_count": 25,
   "metadata": {},
   "outputs": [
    {
     "name": "stdout",
     "output_type": "stream",
     "text": [
      "\n",
      "    30 s + 8.889e+04\n",
      "------------------------\n",
      "s^2 + 2963 s + 2.091e+07\n",
      "\n",
      "\n",
      "        1.12e+06\n",
      "------------------------\n",
      "s^2 + 2963 s + 2.091e+07\n",
      "\n"
     ]
    }
   ],
   "source": [
    "print(Gi_vg)\n",
    "print(Gv_vg)"
   ]
  },
  {
   "cell_type": "code",
   "execution_count": 26,
   "metadata": {},
   "outputs": [],
   "source": [
    "(num, den) = ss2tf(Ap,Bp,Cp,Ep,1)\n",
    "\n",
    "num = around(num, n_of_decimals)\n",
    "den = around(den, n_of_decimals)\n",
    "\n",
    "Gi_vg = tf(num[0], den)\n",
    "Gv_vg = tf(num[1], den)"
   ]
  },
  {
   "cell_type": "code",
   "execution_count": 27,
   "metadata": {},
   "outputs": [
    {
     "name": "stdout",
     "output_type": "stream",
     "text": [
      "\n",
      "  5e+04 s + 1.926e+08\n",
      "------------------------\n",
      "s^2 + 2963 s + 2.091e+07\n",
      "\n",
      "\n",
      "-7.937e+04 s + 1.867e+09\n",
      "------------------------\n",
      "s^2 + 2963 s + 2.091e+07\n",
      "\n"
     ]
    }
   ],
   "source": [
    "print(Gi_vg)\n",
    "print(Gv_vg)"
   ]
  },
  {
   "cell_type": "markdown",
   "metadata": {},
   "source": [
    "## Rascunho:"
   ]
  },
  {
   "cell_type": "markdown",
   "metadata": {},
   "source": [
    "Para validar a equação de ganho:"
   ]
  },
  {
   "cell_type": "code",
   "execution_count": 28,
   "metadata": {},
   "outputs": [],
   "source": [
    "# D = .8\n",
    "# Vg = 100\n",
    "\n",
    "# M = D / (8 - 8*D)\n",
    "# M*Vg"
   ]
  },
  {
   "cell_type": "code",
   "execution_count": 29,
   "metadata": {},
   "outputs": [
    {
     "data": {
      "text/plain": [
       "70.0"
      ]
     },
     "execution_count": 29,
     "metadata": {},
     "output_type": "execute_result"
    }
   ],
   "source": [
    "Vg * 20/100"
   ]
  },
  {
   "cell_type": "code",
   "execution_count": null,
   "metadata": {},
   "outputs": [],
   "source": []
  }
 ],
 "metadata": {
  "kernelspec": {
   "display_name": "Python 3",
   "language": "python",
   "name": "python3"
  },
  "language_info": {
   "codemirror_mode": {
    "name": "ipython",
    "version": 3
   },
   "file_extension": ".py",
   "mimetype": "text/x-python",
   "name": "python",
   "nbconvert_exporter": "python",
   "pygments_lexer": "ipython3",
   "version": "3.7.4"
  }
 },
 "nbformat": 4,
 "nbformat_minor": 2
}
